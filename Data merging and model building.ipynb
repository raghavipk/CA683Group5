{
  "nbformat": 4,
  "nbformat_minor": 0,
  "metadata": {
    "colab": {
      "provenance": [],
      "collapsed_sections": [
        "3_K-u5V45RQE",
        "YaPRLNFfEql2",
        "IwI_iV0Qefxi",
        "lyQurXJO3wlF",
        "i__jjUhAaCp0",
        "CBF-fOV4Z9uk",
        "GSHQ7mxxdmd_"
      ]
    },
    "kernelspec": {
      "name": "python3",
      "display_name": "Python 3"
    },
    "language_info": {
      "name": "python"
    },
    "accelerator": "GPU",
    "gpuClass": "standard"
  },
  "cells": [
    {
      "cell_type": "code",
      "execution_count": null,
      "metadata": {
        "id": "Aa9pKDTDfRKN",
        "colab": {
          "base_uri": "https://localhost:8080/"
        },
        "outputId": "488b0689-4079-4a3d-ebc2-430248fda4c3"
      },
      "outputs": [
        {
          "output_type": "stream",
          "name": "stdout",
          "text": [
            "Mounted at /content/drive/\n"
          ]
        }
      ],
      "source": [
        "from google.colab import drive\n",
        "drive.mount('/content/drive/')"
      ]
    },
    {
      "cell_type": "code",
      "source": [
        "pip install langdetect"
      ],
      "metadata": {
        "id": "bzlGwQJXG6Uy"
      },
      "execution_count": null,
      "outputs": []
    },
    {
      "cell_type": "code",
      "source": [
        "pip install googletrans==3.1.0a0"
      ],
      "metadata": {
        "id": "AmK_dDiRkn1Q"
      },
      "execution_count": null,
      "outputs": []
    },
    {
      "cell_type": "code",
      "source": [
        "import pandas as pd\n",
        "import string\n",
        "from nltk.corpus import stopwords\n",
        "import nltk\n",
        "from numpy import mean\n",
        "import numpy as np"
      ],
      "metadata": {
        "id": "g-jfmr1AiOr8"
      },
      "execution_count": null,
      "outputs": []
    },
    {
      "cell_type": "code",
      "source": [
        "!pip install prince"
      ],
      "metadata": {
        "colab": {
          "base_uri": "https://localhost:8080/"
        },
        "id": "vVf7CZMExjjc",
        "outputId": "c57f23c3-582f-44b9-c0c8-c40aebae0144"
      },
      "execution_count": null,
      "outputs": [
        {
          "output_type": "stream",
          "name": "stdout",
          "text": [
            "Looking in indexes: https://pypi.org/simple, https://us-python.pkg.dev/colab-wheels/public/simple/\n",
            "Collecting prince\n",
            "  Downloading prince-0.10.0-py3-none-any.whl (414 kB)\n",
            "\u001b[2K     \u001b[90m━━━━━━━━━━━━━━━━━━━━━━━━━━━━━━━━━━━━━━\u001b[0m \u001b[32m414.6/414.6 KB\u001b[0m \u001b[31m19.4 MB/s\u001b[0m eta \u001b[36m0:00:00\u001b[0m\n",
            "\u001b[?25hRequirement already satisfied: pandas<2.0.0,>=1.4.1 in /usr/local/lib/python3.9/dist-packages (from prince) (1.4.4)\n",
            "Requirement already satisfied: altair<5.0.0,>=4.2.2 in /usr/local/lib/python3.9/dist-packages (from prince) (4.2.2)\n",
            "Requirement already satisfied: scikit-learn<2.0.0,>=1.0.2 in /usr/local/lib/python3.9/dist-packages (from prince) (1.2.2)\n",
            "Requirement already satisfied: jsonschema>=3.0 in /usr/local/lib/python3.9/dist-packages (from altair<5.0.0,>=4.2.2->prince) (4.3.3)\n",
            "Requirement already satisfied: entrypoints in /usr/local/lib/python3.9/dist-packages (from altair<5.0.0,>=4.2.2->prince) (0.4)\n",
            "Requirement already satisfied: jinja2 in /usr/local/lib/python3.9/dist-packages (from altair<5.0.0,>=4.2.2->prince) (3.1.2)\n",
            "Requirement already satisfied: numpy in /usr/local/lib/python3.9/dist-packages (from altair<5.0.0,>=4.2.2->prince) (1.22.4)\n",
            "Requirement already satisfied: toolz in /usr/local/lib/python3.9/dist-packages (from altair<5.0.0,>=4.2.2->prince) (0.12.0)\n",
            "Requirement already satisfied: python-dateutil>=2.8.1 in /usr/local/lib/python3.9/dist-packages (from pandas<2.0.0,>=1.4.1->prince) (2.8.2)\n",
            "Requirement already satisfied: pytz>=2020.1 in /usr/local/lib/python3.9/dist-packages (from pandas<2.0.0,>=1.4.1->prince) (2022.7.1)\n",
            "Requirement already satisfied: threadpoolctl>=2.0.0 in /usr/local/lib/python3.9/dist-packages (from scikit-learn<2.0.0,>=1.0.2->prince) (3.1.0)\n",
            "Requirement already satisfied: joblib>=1.1.1 in /usr/local/lib/python3.9/dist-packages (from scikit-learn<2.0.0,>=1.0.2->prince) (1.1.1)\n",
            "Requirement already satisfied: scipy>=1.3.2 in /usr/local/lib/python3.9/dist-packages (from scikit-learn<2.0.0,>=1.0.2->prince) (1.10.1)\n",
            "Requirement already satisfied: attrs>=17.4.0 in /usr/local/lib/python3.9/dist-packages (from jsonschema>=3.0->altair<5.0.0,>=4.2.2->prince) (22.2.0)\n",
            "Requirement already satisfied: pyrsistent!=0.17.0,!=0.17.1,!=0.17.2,>=0.14.0 in /usr/local/lib/python3.9/dist-packages (from jsonschema>=3.0->altair<5.0.0,>=4.2.2->prince) (0.19.3)\n",
            "Requirement already satisfied: six>=1.5 in /usr/local/lib/python3.9/dist-packages (from python-dateutil>=2.8.1->pandas<2.0.0,>=1.4.1->prince) (1.16.0)\n",
            "Requirement already satisfied: MarkupSafe>=2.0 in /usr/local/lib/python3.9/dist-packages (from jinja2->altair<5.0.0,>=4.2.2->prince) (2.1.2)\n",
            "Installing collected packages: prince\n",
            "Successfully installed prince-0.10.0\n"
          ]
        }
      ]
    },
    {
      "cell_type": "code",
      "source": [
        "import prince"
      ],
      "metadata": {
        "id": "zVwrktQkS-ZE"
      },
      "execution_count": null,
      "outputs": []
    },
    {
      "cell_type": "markdown",
      "source": [
        "#### merging"
      ],
      "metadata": {
        "id": "3_K-u5V45RQE"
      }
    },
    {
      "cell_type": "code",
      "source": [
        "CA=pd.read_csv(\"/content/drive/MyDrive/Data Mining Assignment/CA_youtube_trending_data.csv\")\n",
        "CA['country']='CA'"
      ],
      "metadata": {
        "id": "rdVx62D3i3Rw"
      },
      "execution_count": null,
      "outputs": []
    },
    {
      "cell_type": "code",
      "source": [
        "CA['Category_Title'].unique()"
      ],
      "metadata": {
        "colab": {
          "base_uri": "https://localhost:8080/"
        },
        "id": "2av4osrrkZwl",
        "outputId": "523d693c-c6d9-41a3-82bb-4eb9bd139c05"
      },
      "execution_count": null,
      "outputs": [
        {
          "output_type": "execute_result",
          "data": {
            "text/plain": [
              "array(['Music', 'Entertainment', 'Gaming', 'People & Blogs',\n",
              "       'Howto & Style', 'Education', 'Sports', 'Autos & Vehicles',\n",
              "       'News & Politics', 'Science & Technology', 'Film & Animation',\n",
              "       'Comedy', 'Travel & Events', 'Pets & Animals', nan], dtype=object)"
            ]
          },
          "metadata": {},
          "execution_count": 11
        }
      ]
    },
    {
      "cell_type": "code",
      "source": [
        "CA[CA['categoryId']==28]"
      ],
      "metadata": {
        "colab": {
          "base_uri": "https://localhost:8080/",
          "height": 1000
        },
        "id": "TK_ba0l1sqjx",
        "outputId": "14c04d88-07dd-419b-fbb4-9e196e77df67"
      },
      "execution_count": null,
      "outputs": [
        {
          "output_type": "execute_result",
          "data": {
            "text/plain": [
              "           video_id                                              title  \\\n",
              "20      vePc5V4h_kg      Shark Attack Test- Human Blood vs. Fish Blood   \n",
              "38      zHPVGSwLhcg                 Unboxing Apple's $129 Luxury Cable   \n",
              "53      QMln_LknyKU                          Forget PS5. You want THIS   \n",
              "74      KmVG1Yx1kwQ  3 DAYS with the Samsung Galaxy Note 20 Ultra! ...   \n",
              "190     gQWf6XpOrXI            Ils nous écoutent par nos téléphones !?   \n",
              "...             ...                                                ...   \n",
              "187813  9irICRnszOc  Primitive Technology: Iron Bacteria Cement (no...   \n",
              "187817  Z2VlaplYass                        6 MENSONGES sur l'HYGIÈNE 🛁   \n",
              "187839  OXJAXlw2LcI        building Moon Shoes that actually Jump High   \n",
              "187900  d8bZCve_ZKA                                     I'm NOT Stupid   \n",
              "187938  hxj8mNzv8PI  5 Years with Solar Panels - Is It Still Worth It?   \n",
              "\n",
              "                 publishedAt                 channelId  \\\n",
              "20      2020-08-09T16:00:11Z  UCY1kMZp36IQSyNx_9h4mpCg   \n",
              "38      2020-08-11T14:42:43Z  UCsTcErHg8oDvUnTzoqsYeNw   \n",
              "53      2020-08-11T18:41:23Z  UC9fSZHEh6XsRpX-xJc6lT3A   \n",
              "74      2020-08-10T18:28:55Z  UCzlXf-yUIaOpOjEjPrOO9TA   \n",
              "190     2020-08-07T16:00:16Z  UCWnfDPdZw6A23UtuBpYBbAg   \n",
              "...                      ...                       ...   \n",
              "187813  2023-03-02T22:03:02Z  UCAL3JXZSzSm8AlZyD3nQdBA   \n",
              "187817  2023-03-02T16:57:03Z  UCA9IJ0GhYcbSst7C6cQWrKw   \n",
              "187839  2023-03-02T04:04:00Z  UCVS89U86PwqzNkK2qYNbk5A   \n",
              "187900  2023-02-28T00:12:12Z  UCXuqSBlHAE6Xw-yeJA0Tunw   \n",
              "187938  2023-02-28T13:16:47Z  UCjtUS7-SZTi6pXjUbzGHQCg   \n",
              "\n",
              "                       channelTitle  categoryId         trending_date  \\\n",
              "20                       Mark Rober          28  2020-08-12T00:00:00Z   \n",
              "38                    Unbox Therapy          28  2020-08-12T00:00:00Z   \n",
              "53                    UrAvgConsumer          28  2020-08-12T00:00:00Z   \n",
              "74                    The Tech Chap          28  2020-08-12T00:00:00Z   \n",
              "190                       Dr Nozman          28  2020-08-12T00:00:00Z   \n",
              "...                             ...         ...                   ...   \n",
              "187813         Primitive Technology          28  2023-03-05T00:00:00Z   \n",
              "187817                Science Trash          28  2023-03-05T00:00:00Z   \n",
              "187839                    Allen Pan          28  2023-03-05T00:00:00Z   \n",
              "187900              Linus Tech Tips          28  2023-03-05T00:00:00Z   \n",
              "187938  Undecided with Matt Ferrell          28  2023-03-05T00:00:00Z   \n",
              "\n",
              "                                                     tags  view_count   likes  \\\n",
              "20      sharks|sharkweek|jaws|shark attack|blood in wa...    14684474  544046   \n",
              "38      unbox therapy|unboxtherapy|tech|technology|gad...      998199   60995   \n",
              "53      uravgconsumer|uac|your average consumer|gaming...      128803    7554   \n",
              "74      note 20 ultra|galaxy note 20 ultra|samsung gal...      285517    6771   \n",
              "190                              dr nozman|nozman|science      549819   45547   \n",
              "...                                                   ...         ...     ...   \n",
              "187813  primitive technology|primitive|technology|tech...     1035785   61772   \n",
              "187817  science|hygiène|odeur|savon|poil|shampoing|gel...      809746   45496   \n",
              "187839                                             [None]      525202   45623   \n",
              "187900  LTT|Lab|Linus Media Group|Testing Facility|Ind...     2747559  123483   \n",
              "187938  best solar panels|renewable energy|solar cell|...      346354   18723   \n",
              "\n",
              "        dislikes  comment_count  \\\n",
              "20         15818          33508   \n",
              "38          8847          13809   \n",
              "53           911           1456   \n",
              "74           254           1463   \n",
              "190         1249           2097   \n",
              "...          ...            ...   \n",
              "187813         0           2340   \n",
              "187817         0            915   \n",
              "187839         0           2188   \n",
              "187900         0           7514   \n",
              "187938         0           1398   \n",
              "\n",
              "                                        thumbnail_link  comments_disabled  \\\n",
              "20      https://i.ytimg.com/vi/vePc5V4h_kg/default.jpg              False   \n",
              "38      https://i.ytimg.com/vi/zHPVGSwLhcg/default.jpg              False   \n",
              "53      https://i.ytimg.com/vi/QMln_LknyKU/default.jpg              False   \n",
              "74      https://i.ytimg.com/vi/KmVG1Yx1kwQ/default.jpg              False   \n",
              "190     https://i.ytimg.com/vi/gQWf6XpOrXI/default.jpg              False   \n",
              "...                                                ...                ...   \n",
              "187813  https://i.ytimg.com/vi/9irICRnszOc/default.jpg              False   \n",
              "187817  https://i.ytimg.com/vi/Z2VlaplYass/default.jpg              False   \n",
              "187839  https://i.ytimg.com/vi/OXJAXlw2LcI/default.jpg              False   \n",
              "187900  https://i.ytimg.com/vi/d8bZCve_ZKA/default.jpg              False   \n",
              "187938  https://i.ytimg.com/vi/hxj8mNzv8PI/default.jpg              False   \n",
              "\n",
              "        ratings_disabled                                        description  \\\n",
              "20                 False  I personally got in the water and tested if Sh...   \n",
              "38                 False  ShhhhFOLLOW ME IN THESE PLACES FOR UPDATES\\rTw...   \n",
              "53                 False  I just found my new favorite gaming laptop. Th...   \n",
              "74                 False  What's it like using the Samsung Galaxy Note 2...   \n",
              "190                False  Ils nous écoutent par nos téléphones ?DROP 2 :...   \n",
              "...                  ...                                                ...   \n",
              "187813             False  Primitive Technology: Iron Bacteria Cement (no...   \n",
              "187817             False  Sortir avec une personne sale qui n’utilise ni...   \n",
              "187839             False  Get PayPal Honey for FREE today ▸ https://join...   \n",
              "187900             False  White noise is the right noise! Check out the ...   \n",
              "187938             False  5 Years with Solar Panels - Is It Still Worth ...   \n",
              "\n",
              "              Category_Title country  \n",
              "20      Science & Technology      CA  \n",
              "38      Science & Technology      CA  \n",
              "53      Science & Technology      CA  \n",
              "74      Science & Technology      CA  \n",
              "190     Science & Technology      CA  \n",
              "...                      ...     ...  \n",
              "187813  Science & Technology      CA  \n",
              "187817  Science & Technology      CA  \n",
              "187839  Science & Technology      CA  \n",
              "187900  Science & Technology      CA  \n",
              "187938  Science & Technology      CA  \n",
              "\n",
              "[6629 rows x 18 columns]"
            ],
            "text/html": [
              "\n",
              "  <div id=\"df-c7dbd5ee-91fc-4b5f-b0cc-594dfe2b2181\">\n",
              "    <div class=\"colab-df-container\">\n",
              "      <div>\n",
              "<style scoped>\n",
              "    .dataframe tbody tr th:only-of-type {\n",
              "        vertical-align: middle;\n",
              "    }\n",
              "\n",
              "    .dataframe tbody tr th {\n",
              "        vertical-align: top;\n",
              "    }\n",
              "\n",
              "    .dataframe thead th {\n",
              "        text-align: right;\n",
              "    }\n",
              "</style>\n",
              "<table border=\"1\" class=\"dataframe\">\n",
              "  <thead>\n",
              "    <tr style=\"text-align: right;\">\n",
              "      <th></th>\n",
              "      <th>video_id</th>\n",
              "      <th>title</th>\n",
              "      <th>publishedAt</th>\n",
              "      <th>channelId</th>\n",
              "      <th>channelTitle</th>\n",
              "      <th>categoryId</th>\n",
              "      <th>trending_date</th>\n",
              "      <th>tags</th>\n",
              "      <th>view_count</th>\n",
              "      <th>likes</th>\n",
              "      <th>dislikes</th>\n",
              "      <th>comment_count</th>\n",
              "      <th>thumbnail_link</th>\n",
              "      <th>comments_disabled</th>\n",
              "      <th>ratings_disabled</th>\n",
              "      <th>description</th>\n",
              "      <th>Category_Title</th>\n",
              "      <th>country</th>\n",
              "    </tr>\n",
              "  </thead>\n",
              "  <tbody>\n",
              "    <tr>\n",
              "      <th>20</th>\n",
              "      <td>vePc5V4h_kg</td>\n",
              "      <td>Shark Attack Test- Human Blood vs. Fish Blood</td>\n",
              "      <td>2020-08-09T16:00:11Z</td>\n",
              "      <td>UCY1kMZp36IQSyNx_9h4mpCg</td>\n",
              "      <td>Mark Rober</td>\n",
              "      <td>28</td>\n",
              "      <td>2020-08-12T00:00:00Z</td>\n",
              "      <td>sharks|sharkweek|jaws|shark attack|blood in wa...</td>\n",
              "      <td>14684474</td>\n",
              "      <td>544046</td>\n",
              "      <td>15818</td>\n",
              "      <td>33508</td>\n",
              "      <td>https://i.ytimg.com/vi/vePc5V4h_kg/default.jpg</td>\n",
              "      <td>False</td>\n",
              "      <td>False</td>\n",
              "      <td>I personally got in the water and tested if Sh...</td>\n",
              "      <td>Science &amp; Technology</td>\n",
              "      <td>CA</td>\n",
              "    </tr>\n",
              "    <tr>\n",
              "      <th>38</th>\n",
              "      <td>zHPVGSwLhcg</td>\n",
              "      <td>Unboxing Apple's $129 Luxury Cable</td>\n",
              "      <td>2020-08-11T14:42:43Z</td>\n",
              "      <td>UCsTcErHg8oDvUnTzoqsYeNw</td>\n",
              "      <td>Unbox Therapy</td>\n",
              "      <td>28</td>\n",
              "      <td>2020-08-12T00:00:00Z</td>\n",
              "      <td>unbox therapy|unboxtherapy|tech|technology|gad...</td>\n",
              "      <td>998199</td>\n",
              "      <td>60995</td>\n",
              "      <td>8847</td>\n",
              "      <td>13809</td>\n",
              "      <td>https://i.ytimg.com/vi/zHPVGSwLhcg/default.jpg</td>\n",
              "      <td>False</td>\n",
              "      <td>False</td>\n",
              "      <td>ShhhhFOLLOW ME IN THESE PLACES FOR UPDATES\\rTw...</td>\n",
              "      <td>Science &amp; Technology</td>\n",
              "      <td>CA</td>\n",
              "    </tr>\n",
              "    <tr>\n",
              "      <th>53</th>\n",
              "      <td>QMln_LknyKU</td>\n",
              "      <td>Forget PS5. You want THIS</td>\n",
              "      <td>2020-08-11T18:41:23Z</td>\n",
              "      <td>UC9fSZHEh6XsRpX-xJc6lT3A</td>\n",
              "      <td>UrAvgConsumer</td>\n",
              "      <td>28</td>\n",
              "      <td>2020-08-12T00:00:00Z</td>\n",
              "      <td>uravgconsumer|uac|your average consumer|gaming...</td>\n",
              "      <td>128803</td>\n",
              "      <td>7554</td>\n",
              "      <td>911</td>\n",
              "      <td>1456</td>\n",
              "      <td>https://i.ytimg.com/vi/QMln_LknyKU/default.jpg</td>\n",
              "      <td>False</td>\n",
              "      <td>False</td>\n",
              "      <td>I just found my new favorite gaming laptop. Th...</td>\n",
              "      <td>Science &amp; Technology</td>\n",
              "      <td>CA</td>\n",
              "    </tr>\n",
              "    <tr>\n",
              "      <th>74</th>\n",
              "      <td>KmVG1Yx1kwQ</td>\n",
              "      <td>3 DAYS with the Samsung Galaxy Note 20 Ultra! ...</td>\n",
              "      <td>2020-08-10T18:28:55Z</td>\n",
              "      <td>UCzlXf-yUIaOpOjEjPrOO9TA</td>\n",
              "      <td>The Tech Chap</td>\n",
              "      <td>28</td>\n",
              "      <td>2020-08-12T00:00:00Z</td>\n",
              "      <td>note 20 ultra|galaxy note 20 ultra|samsung gal...</td>\n",
              "      <td>285517</td>\n",
              "      <td>6771</td>\n",
              "      <td>254</td>\n",
              "      <td>1463</td>\n",
              "      <td>https://i.ytimg.com/vi/KmVG1Yx1kwQ/default.jpg</td>\n",
              "      <td>False</td>\n",
              "      <td>False</td>\n",
              "      <td>What's it like using the Samsung Galaxy Note 2...</td>\n",
              "      <td>Science &amp; Technology</td>\n",
              "      <td>CA</td>\n",
              "    </tr>\n",
              "    <tr>\n",
              "      <th>190</th>\n",
              "      <td>gQWf6XpOrXI</td>\n",
              "      <td>Ils nous écoutent par nos téléphones !?</td>\n",
              "      <td>2020-08-07T16:00:16Z</td>\n",
              "      <td>UCWnfDPdZw6A23UtuBpYBbAg</td>\n",
              "      <td>Dr Nozman</td>\n",
              "      <td>28</td>\n",
              "      <td>2020-08-12T00:00:00Z</td>\n",
              "      <td>dr nozman|nozman|science</td>\n",
              "      <td>549819</td>\n",
              "      <td>45547</td>\n",
              "      <td>1249</td>\n",
              "      <td>2097</td>\n",
              "      <td>https://i.ytimg.com/vi/gQWf6XpOrXI/default.jpg</td>\n",
              "      <td>False</td>\n",
              "      <td>False</td>\n",
              "      <td>Ils nous écoutent par nos téléphones ?DROP 2 :...</td>\n",
              "      <td>Science &amp; Technology</td>\n",
              "      <td>CA</td>\n",
              "    </tr>\n",
              "    <tr>\n",
              "      <th>...</th>\n",
              "      <td>...</td>\n",
              "      <td>...</td>\n",
              "      <td>...</td>\n",
              "      <td>...</td>\n",
              "      <td>...</td>\n",
              "      <td>...</td>\n",
              "      <td>...</td>\n",
              "      <td>...</td>\n",
              "      <td>...</td>\n",
              "      <td>...</td>\n",
              "      <td>...</td>\n",
              "      <td>...</td>\n",
              "      <td>...</td>\n",
              "      <td>...</td>\n",
              "      <td>...</td>\n",
              "      <td>...</td>\n",
              "      <td>...</td>\n",
              "      <td>...</td>\n",
              "    </tr>\n",
              "    <tr>\n",
              "      <th>187813</th>\n",
              "      <td>9irICRnszOc</td>\n",
              "      <td>Primitive Technology: Iron Bacteria Cement (no...</td>\n",
              "      <td>2023-03-02T22:03:02Z</td>\n",
              "      <td>UCAL3JXZSzSm8AlZyD3nQdBA</td>\n",
              "      <td>Primitive Technology</td>\n",
              "      <td>28</td>\n",
              "      <td>2023-03-05T00:00:00Z</td>\n",
              "      <td>primitive technology|primitive|technology|tech...</td>\n",
              "      <td>1035785</td>\n",
              "      <td>61772</td>\n",
              "      <td>0</td>\n",
              "      <td>2340</td>\n",
              "      <td>https://i.ytimg.com/vi/9irICRnszOc/default.jpg</td>\n",
              "      <td>False</td>\n",
              "      <td>False</td>\n",
              "      <td>Primitive Technology: Iron Bacteria Cement (no...</td>\n",
              "      <td>Science &amp; Technology</td>\n",
              "      <td>CA</td>\n",
              "    </tr>\n",
              "    <tr>\n",
              "      <th>187817</th>\n",
              "      <td>Z2VlaplYass</td>\n",
              "      <td>6 MENSONGES sur l'HYGIÈNE 🛁</td>\n",
              "      <td>2023-03-02T16:57:03Z</td>\n",
              "      <td>UCA9IJ0GhYcbSst7C6cQWrKw</td>\n",
              "      <td>Science Trash</td>\n",
              "      <td>28</td>\n",
              "      <td>2023-03-05T00:00:00Z</td>\n",
              "      <td>science|hygiène|odeur|savon|poil|shampoing|gel...</td>\n",
              "      <td>809746</td>\n",
              "      <td>45496</td>\n",
              "      <td>0</td>\n",
              "      <td>915</td>\n",
              "      <td>https://i.ytimg.com/vi/Z2VlaplYass/default.jpg</td>\n",
              "      <td>False</td>\n",
              "      <td>False</td>\n",
              "      <td>Sortir avec une personne sale qui n’utilise ni...</td>\n",
              "      <td>Science &amp; Technology</td>\n",
              "      <td>CA</td>\n",
              "    </tr>\n",
              "    <tr>\n",
              "      <th>187839</th>\n",
              "      <td>OXJAXlw2LcI</td>\n",
              "      <td>building Moon Shoes that actually Jump High</td>\n",
              "      <td>2023-03-02T04:04:00Z</td>\n",
              "      <td>UCVS89U86PwqzNkK2qYNbk5A</td>\n",
              "      <td>Allen Pan</td>\n",
              "      <td>28</td>\n",
              "      <td>2023-03-05T00:00:00Z</td>\n",
              "      <td>[None]</td>\n",
              "      <td>525202</td>\n",
              "      <td>45623</td>\n",
              "      <td>0</td>\n",
              "      <td>2188</td>\n",
              "      <td>https://i.ytimg.com/vi/OXJAXlw2LcI/default.jpg</td>\n",
              "      <td>False</td>\n",
              "      <td>False</td>\n",
              "      <td>Get PayPal Honey for FREE today ▸ https://join...</td>\n",
              "      <td>Science &amp; Technology</td>\n",
              "      <td>CA</td>\n",
              "    </tr>\n",
              "    <tr>\n",
              "      <th>187900</th>\n",
              "      <td>d8bZCve_ZKA</td>\n",
              "      <td>I'm NOT Stupid</td>\n",
              "      <td>2023-02-28T00:12:12Z</td>\n",
              "      <td>UCXuqSBlHAE6Xw-yeJA0Tunw</td>\n",
              "      <td>Linus Tech Tips</td>\n",
              "      <td>28</td>\n",
              "      <td>2023-03-05T00:00:00Z</td>\n",
              "      <td>LTT|Lab|Linus Media Group|Testing Facility|Ind...</td>\n",
              "      <td>2747559</td>\n",
              "      <td>123483</td>\n",
              "      <td>0</td>\n",
              "      <td>7514</td>\n",
              "      <td>https://i.ytimg.com/vi/d8bZCve_ZKA/default.jpg</td>\n",
              "      <td>False</td>\n",
              "      <td>False</td>\n",
              "      <td>White noise is the right noise! Check out the ...</td>\n",
              "      <td>Science &amp; Technology</td>\n",
              "      <td>CA</td>\n",
              "    </tr>\n",
              "    <tr>\n",
              "      <th>187938</th>\n",
              "      <td>hxj8mNzv8PI</td>\n",
              "      <td>5 Years with Solar Panels - Is It Still Worth It?</td>\n",
              "      <td>2023-02-28T13:16:47Z</td>\n",
              "      <td>UCjtUS7-SZTi6pXjUbzGHQCg</td>\n",
              "      <td>Undecided with Matt Ferrell</td>\n",
              "      <td>28</td>\n",
              "      <td>2023-03-05T00:00:00Z</td>\n",
              "      <td>best solar panels|renewable energy|solar cell|...</td>\n",
              "      <td>346354</td>\n",
              "      <td>18723</td>\n",
              "      <td>0</td>\n",
              "      <td>1398</td>\n",
              "      <td>https://i.ytimg.com/vi/hxj8mNzv8PI/default.jpg</td>\n",
              "      <td>False</td>\n",
              "      <td>False</td>\n",
              "      <td>5 Years with Solar Panels - Is It Still Worth ...</td>\n",
              "      <td>Science &amp; Technology</td>\n",
              "      <td>CA</td>\n",
              "    </tr>\n",
              "  </tbody>\n",
              "</table>\n",
              "<p>6629 rows × 18 columns</p>\n",
              "</div>\n",
              "      <button class=\"colab-df-convert\" onclick=\"convertToInteractive('df-c7dbd5ee-91fc-4b5f-b0cc-594dfe2b2181')\"\n",
              "              title=\"Convert this dataframe to an interactive table.\"\n",
              "              style=\"display:none;\">\n",
              "        \n",
              "  <svg xmlns=\"http://www.w3.org/2000/svg\" height=\"24px\"viewBox=\"0 0 24 24\"\n",
              "       width=\"24px\">\n",
              "    <path d=\"M0 0h24v24H0V0z\" fill=\"none\"/>\n",
              "    <path d=\"M18.56 5.44l.94 2.06.94-2.06 2.06-.94-2.06-.94-.94-2.06-.94 2.06-2.06.94zm-11 1L8.5 8.5l.94-2.06 2.06-.94-2.06-.94L8.5 2.5l-.94 2.06-2.06.94zm10 10l.94 2.06.94-2.06 2.06-.94-2.06-.94-.94-2.06-.94 2.06-2.06.94z\"/><path d=\"M17.41 7.96l-1.37-1.37c-.4-.4-.92-.59-1.43-.59-.52 0-1.04.2-1.43.59L10.3 9.45l-7.72 7.72c-.78.78-.78 2.05 0 2.83L4 21.41c.39.39.9.59 1.41.59.51 0 1.02-.2 1.41-.59l7.78-7.78 2.81-2.81c.8-.78.8-2.07 0-2.86zM5.41 20L4 18.59l7.72-7.72 1.47 1.35L5.41 20z\"/>\n",
              "  </svg>\n",
              "      </button>\n",
              "      \n",
              "  <style>\n",
              "    .colab-df-container {\n",
              "      display:flex;\n",
              "      flex-wrap:wrap;\n",
              "      gap: 12px;\n",
              "    }\n",
              "\n",
              "    .colab-df-convert {\n",
              "      background-color: #E8F0FE;\n",
              "      border: none;\n",
              "      border-radius: 50%;\n",
              "      cursor: pointer;\n",
              "      display: none;\n",
              "      fill: #1967D2;\n",
              "      height: 32px;\n",
              "      padding: 0 0 0 0;\n",
              "      width: 32px;\n",
              "    }\n",
              "\n",
              "    .colab-df-convert:hover {\n",
              "      background-color: #E2EBFA;\n",
              "      box-shadow: 0px 1px 2px rgba(60, 64, 67, 0.3), 0px 1px 3px 1px rgba(60, 64, 67, 0.15);\n",
              "      fill: #174EA6;\n",
              "    }\n",
              "\n",
              "    [theme=dark] .colab-df-convert {\n",
              "      background-color: #3B4455;\n",
              "      fill: #D2E3FC;\n",
              "    }\n",
              "\n",
              "    [theme=dark] .colab-df-convert:hover {\n",
              "      background-color: #434B5C;\n",
              "      box-shadow: 0px 1px 3px 1px rgba(0, 0, 0, 0.15);\n",
              "      filter: drop-shadow(0px 1px 2px rgba(0, 0, 0, 0.3));\n",
              "      fill: #FFFFFF;\n",
              "    }\n",
              "  </style>\n",
              "\n",
              "      <script>\n",
              "        const buttonEl =\n",
              "          document.querySelector('#df-c7dbd5ee-91fc-4b5f-b0cc-594dfe2b2181 button.colab-df-convert');\n",
              "        buttonEl.style.display =\n",
              "          google.colab.kernel.accessAllowed ? 'block' : 'none';\n",
              "\n",
              "        async function convertToInteractive(key) {\n",
              "          const element = document.querySelector('#df-c7dbd5ee-91fc-4b5f-b0cc-594dfe2b2181');\n",
              "          const dataTable =\n",
              "            await google.colab.kernel.invokeFunction('convertToInteractive',\n",
              "                                                     [key], {});\n",
              "          if (!dataTable) return;\n",
              "\n",
              "          const docLinkHtml = 'Like what you see? Visit the ' +\n",
              "            '<a target=\"_blank\" href=https://colab.research.google.com/notebooks/data_table.ipynb>data table notebook</a>'\n",
              "            + ' to learn more about interactive tables.';\n",
              "          element.innerHTML = '';\n",
              "          dataTable['output_type'] = 'display_data';\n",
              "          await google.colab.output.renderOutput(dataTable, element);\n",
              "          const docLink = document.createElement('div');\n",
              "          docLink.innerHTML = docLinkHtml;\n",
              "          element.appendChild(docLink);\n",
              "        }\n",
              "      </script>\n",
              "    </div>\n",
              "  </div>\n",
              "  "
            ]
          },
          "metadata": {},
          "execution_count": 10
        }
      ]
    },
    {
      "cell_type": "code",
      "source": [
        "def dups_drop(CA):\n",
        "  CA['trending_date']=pd.to_datetime(CA['trending_date'])\n",
        "  CA['trend_year'] = CA['trending_date'].dt.year\n",
        "  CA['trend_month'] = CA['trending_date'].dt.month\n",
        "  CA.sort_values(['trending_date'],inplace=True)\n",
        "  CA.drop_duplicates('video_id',keep=\"last\",inplace=True)\n",
        "  return(CA)"
      ],
      "metadata": {
        "id": "XnnvDxx2kKKg"
      },
      "execution_count": null,
      "outputs": []
    },
    {
      "cell_type": "code",
      "source": [
        "GB = pd.read_csv(\"/content/drive/MyDrive/Data Mining Assignment/GB_youtube_trending_data.csv\")\n",
        "GB['country']='GB'\n",
        "IN = pd.read_csv(\"/content/drive/MyDrive/Data Mining Assignment/IN_youtube_trending_data.csv\")\n",
        "IN['country']='IN'\n",
        "US = pd.read_csv(\"/content/drive/MyDrive/Data Mining Assignment/US_youtube_trending_data.csv\")\n",
        "US['country']='US'\n",
        "df=pd.DataFrame()\n",
        "for i in [CA,GB,IN,US]:\n",
        "  df=df.append(dups_drop(i))\n"
      ],
      "metadata": {
        "id": "0g9UWuBUslsr"
      },
      "execution_count": null,
      "outputs": []
    },
    {
      "cell_type": "code",
      "source": [
        "df.shape"
      ],
      "metadata": {
        "colab": {
          "base_uri": "https://localhost:8080/"
        },
        "id": "3SQIckspstx1",
        "outputId": "8f9fd0a5-0c64-40f4-9417-b6072d66e0c0"
      },
      "execution_count": null,
      "outputs": [
        {
          "output_type": "execute_result",
          "data": {
            "text/plain": [
              "(158590, 20)"
            ]
          },
          "metadata": {},
          "execution_count": 9
        }
      ]
    },
    {
      "cell_type": "code",
      "source": [
        "df.to_csv(\"/content/drive/MyDrive/Data Mining Assignment/merged_data.csv\",index=False)"
      ],
      "metadata": {
        "id": "00ky6ZNwslif"
      },
      "execution_count": null,
      "outputs": []
    },
    {
      "cell_type": "markdown",
      "source": [
        "#### Filtering"
      ],
      "metadata": {
        "id": "YaPRLNFfEql2"
      }
    },
    {
      "cell_type": "code",
      "source": [
        "df=pd.read_csv(\"/content/drive/MyDrive/Data Mining Assignment/merged_data.csv\", lineterminator='\\n')"
      ],
      "metadata": {
        "id": "X7GPRbOGjXl5"
      },
      "execution_count": null,
      "outputs": []
    },
    {
      "cell_type": "code",
      "source": [
        "df.shape"
      ],
      "metadata": {
        "colab": {
          "base_uri": "https://localhost:8080/"
        },
        "id": "QaKnS0kRL6Ap",
        "outputId": "6b0778ea-4abd-4bf3-8283-d03cbde358d2"
      },
      "execution_count": null,
      "outputs": [
        {
          "output_type": "execute_result",
          "data": {
            "text/plain": [
              "(158590, 20)"
            ]
          },
          "metadata": {},
          "execution_count": 4
        }
      ]
    },
    {
      "cell_type": "code",
      "source": [
        "## Extracting only english titles with the help of language detector\n",
        "from langdetect import detect\n",
        "detect(df['title'][0])"
      ],
      "metadata": {
        "colab": {
          "base_uri": "https://localhost:8080/",
          "height": 35
        },
        "id": "ca9xN5YdFedE",
        "outputId": "b3f73d00-fbc0-43e6-d75e-03f13c7e6aba"
      },
      "execution_count": null,
      "outputs": [
        {
          "output_type": "execute_result",
          "data": {
            "text/plain": [
              "'en'"
            ],
            "application/vnd.google.colaboratory.intrinsic+json": {
              "type": "string"
            }
          },
          "metadata": {},
          "execution_count": 15
        }
      ]
    },
    {
      "cell_type": "code",
      "source": [
        "# def lang_det(x):\n",
        "#   try :\n",
        "#     d=detect(x)\n",
        "#     return(d) \n",
        "#   except : \n",
        "#     return(\"nan\")\n",
        "# df['language']=df['title'].apply(lambda x:lang_det(x))\n",
        "\n",
        "from googletrans import Translator\n",
        "translator = Translator()\n",
        "\n",
        "def lang_det(x):\n",
        "  try :\n",
        "    d=translator.detect(x)\n",
        "    return(d.lang) \n",
        "  except : \n",
        "    return(\"nan\")\n",
        "df['language']=df['title'].apply(lambda x:lang_det(x))"
      ],
      "metadata": {
        "id": "NDKlpi_uHOB-"
      },
      "execution_count": null,
      "outputs": []
    },
    {
      "cell_type": "code",
      "source": [
        "df.to_csv(\"/content/drive/MyDrive/Data Mining Assignment/merged_data_with_lang.csv\",index=False)"
      ],
      "metadata": {
        "id": "V6v1iZV0MVhC"
      },
      "execution_count": null,
      "outputs": []
    },
    {
      "cell_type": "code",
      "source": [
        "df_eng=df[df['language']=='en']"
      ],
      "metadata": {
        "id": "yNTa-FiaJaE7"
      },
      "execution_count": null,
      "outputs": []
    },
    {
      "cell_type": "code",
      "source": [
        "df_eng.columns"
      ],
      "metadata": {
        "colab": {
          "base_uri": "https://localhost:8080/"
        },
        "id": "Hd8Rrt1Xxyxy",
        "outputId": "18942ed1-af9b-4a6a-e30e-b75b586db005"
      },
      "execution_count": null,
      "outputs": [
        {
          "output_type": "execute_result",
          "data": {
            "text/plain": [
              "Index(['video_id', 'title', 'publishedAt', 'channelId', 'channelTitle',\n",
              "       'categoryId', 'trending_date', 'tags', 'view_count', 'likes',\n",
              "       'dislikes', 'comment_count', 'thumbnail_link', 'comments_disabled',\n",
              "       'ratings_disabled', 'description', 'Category_Title', 'country',\n",
              "       'trend_year', 'trend_month', 'language'],\n",
              "      dtype='object')"
            ]
          },
          "metadata": {},
          "execution_count": 16
        }
      ]
    },
    {
      "cell_type": "code",
      "source": [
        "### subsetting only rows with max views\n",
        "df_eng.sort_values(['view_count'],inplace=True,ascending=True)\n",
        "df_eng.drop_duplicates('video_id',keep=\"last\",inplace=True)"
      ],
      "metadata": {
        "colab": {
          "base_uri": "https://localhost:8080/"
        },
        "id": "mgNeJkucgWLK",
        "outputId": "05454d7b-82e9-4287-c4b1-59693829d582"
      },
      "execution_count": null,
      "outputs": [
        {
          "output_type": "stream",
          "name": "stderr",
          "text": [
            "/usr/local/lib/python3.8/dist-packages/pandas/util/_decorators.py:311: SettingWithCopyWarning: \n",
            "A value is trying to be set on a copy of a slice from a DataFrame\n",
            "\n",
            "See the caveats in the documentation: https://pandas.pydata.org/pandas-docs/stable/user_guide/indexing.html#returning-a-view-versus-a-copy\n",
            "  return func(*args, **kwargs)\n"
          ]
        }
      ]
    },
    {
      "cell_type": "markdown",
      "source": [
        "#### Title Feature creation"
      ],
      "metadata": {
        "id": "IwI_iV0Qefxi"
      }
    },
    {
      "cell_type": "code",
      "source": [
        "#df_eng.to_csv(\"/content/drive/MyDrive/Data Mining Assignment/english only data_base.csv\",index=False)\n",
        "df_eng=pd.read_csv(\"/content/drive/MyDrive/Data Mining Assignment/english only data_base.csv\",lineterminator='\\n')\n",
        "df_eng.reset_index(inplace=True,drop=True)"
      ],
      "metadata": {
        "id": "_5WGCks8yhGL"
      },
      "execution_count": null,
      "outputs": []
    },
    {
      "cell_type": "code",
      "source": [
        "\n",
        "nltk.download('stopwords')\n",
        "count = lambda l1,l2: sum([1 for x in l1 if x in l2])\n",
        "stops = set(stopwords.words('english'))\n"
      ],
      "metadata": {
        "id": "Is3yBF7xFtqU",
        "colab": {
          "base_uri": "https://localhost:8080/"
        },
        "outputId": "15c08746-8149-4c66-9fc7-4e1dc68296bf"
      },
      "execution_count": null,
      "outputs": [
        {
          "output_type": "stream",
          "name": "stderr",
          "text": [
            "[nltk_data] Downloading package stopwords to /root/nltk_data...\n",
            "[nltk_data]   Unzipping corpora/stopwords.zip.\n"
          ]
        }
      ]
    },
    {
      "cell_type": "code",
      "source": [
        "df_eng[\"#punctuation_title\"]=df_eng.title.apply(lambda x:count(x,set(string.punctuation)))\n",
        "df_eng['#characters']= df_eng['title'].str.len()\n",
        "df_eng[\"#capital_words\"]=df_eng.title.apply(lambda x:sum(map(str.isupper, x.split())))\n",
        "df_eng[\"#lower_words\"]=df_eng.title.apply(lambda x:sum(map(str.islower, x.split())))\n",
        "df_eng[\"#words\"]=df_eng.title.apply(lambda x:len(x.split()))\n",
        "df_eng[\"#stop_words\"]=df_eng.title.apply(lambda x:sum([1 if i in stops else 0 for i in x.lower().split()]))\n",
        "df_eng[\"Avg_word_len\"]= df_eng.title.apply(lambda x:mean([len(i) for i in x.lower().split()]))\n",
        "df_eng[\"contains_digit\"]=df_eng.title.apply(lambda x:any([1 if i.isdigit() else 0 for i in x])).astype(int)\n",
        "df_eng['ratio_stopwords']=df_eng['#stop_words']/df_eng['#words']\n",
        "df_eng['ratio_punctuation']=df_eng['#punctuation_title']/df_eng[\"#words\"]\n",
        "df_eng['start_with_digit']= df_eng.title.apply(lambda x:1 if x[0].isdigit() else 0).astype(int)"
      ],
      "metadata": {
        "id": "i1WSN6jhEKXR"
      },
      "execution_count": null,
      "outputs": []
    },
    {
      "cell_type": "code",
      "source": [
        "#df_eng.to_csv(\"/content/drive/MyDrive/Data Mining Assignment/eng_data_base_title_features.csv\",index=False)"
      ],
      "metadata": {
        "id": "PNoMAoE2H1QR"
      },
      "execution_count": null,
      "outputs": []
    },
    {
      "cell_type": "markdown",
      "source": [
        "#### Date Features"
      ],
      "metadata": {
        "id": "lyQurXJO3wlF"
      }
    },
    {
      "cell_type": "code",
      "source": [
        "df_eng['ts_utc'] = pd.to_datetime(df_eng['publishedAt'], utc=True, infer_datetime_format=True)\n",
        "df_eng['day'] = df_eng['ts_utc'].dt.day\n",
        "df_eng['day'] = df_eng['day'].astype('category')\n",
        "\n",
        "# It is assumed the week starts on Monday, which is denoted by 0 and ends on Sunday which is denoted by 6.\n",
        "df_eng['day_of_the_week'] = df_eng['ts_utc'].apply(lambda x: x.dayofweek)\n",
        "df_eng['day_of_the_week'] = df_eng['day_of_the_week'].astype('category')\n",
        "\n",
        "df_eng['day_of_year'] = df_eng['ts_utc'].apply(lambda x: x.dayofyear)\n",
        "df_eng['day_of_year'] = df_eng['day_of_year'].astype('category')\n",
        "\n",
        "df_eng['quarter'] = df_eng['ts_utc'].apply(lambda x: x.quarter)\n",
        "df_eng['quarter'] = df_eng['quarter'].astype('category')"
      ],
      "metadata": {
        "id": "JW25eJws5cCL"
      },
      "execution_count": null,
      "outputs": []
    },
    {
      "cell_type": "code",
      "source": [
        "df_eng.to_csv(\"/content/drive/MyDrive/Data Mining Assignment/eng_data_title_date_features.csv\", sep=\",\", float_format='%.2f',index=False, line_terminator='\\n',encoding='utf-8')"
      ],
      "metadata": {
        "id": "qnlkOhcst_zg"
      },
      "execution_count": null,
      "outputs": []
    },
    {
      "cell_type": "markdown",
      "source": [
        "#### Model building"
      ],
      "metadata": {
        "id": "iJIUSi__OTnF"
      }
    },
    {
      "cell_type": "markdown",
      "source": [
        "##### reading data"
      ],
      "metadata": {
        "id": "wkbxfCmfFdw9"
      }
    },
    {
      "cell_type": "code",
      "source": [
        "df_eng= pd.read_csv(\"/content/drive/MyDrive/Data Mining Assignment/eng_data_subs_count_05_04_latest.csv\",lineterminator='\\n')"
      ],
      "metadata": {
        "id": "aic1OhwF6cMk",
        "colab": {
          "base_uri": "https://localhost:8080/"
        },
        "outputId": "07f40889-800e-4b06-fc90-b5a8c6ffd492"
      },
      "execution_count": null,
      "outputs": [
        {
          "output_type": "stream",
          "name": "stderr",
          "text": [
            "<ipython-input-4-85068b24be43>:1: DtypeWarning: Columns (42) have mixed types. Specify dtype option on import or set low_memory=False.\n",
            "  df_eng= pd.read_csv(\"/content/drive/MyDrive/Data Mining Assignment/eng_data_subs_count_05_04_latest.csv\",lineterminator='\\n')\n"
          ]
        }
      ]
    },
    {
      "cell_type": "code",
      "source": [
        "df_eng.drop(['video_duration_mins',\n",
        "       'video_definition'],axis=1,inplace=True)"
      ],
      "metadata": {
        "id": "p0sfi3yj9mRL"
      },
      "execution_count": null,
      "outputs": []
    },
    {
      "cell_type": "code",
      "source": [
        "pd.options.display.float_format = '{:.2f}'.format\n",
        "df_eng.describe()"
      ],
      "metadata": {
        "colab": {
          "base_uri": "https://localhost:8080/"
        },
        "id": "P8BJrjPB7iNh",
        "outputId": "2d9916ac-33ae-4c0e-dcb0-07144d4a9438"
      },
      "execution_count": null,
      "outputs": [
        {
          "output_type": "execute_result",
          "data": {
            "text/plain": [
              "       categoryId   view_count       likes   dislikes  comment_count  \\\n",
              "count    73736.00     73736.00    73736.00   73736.00       73736.00   \n",
              "mean        19.99   2082640.98   101553.19    1460.62        5507.50   \n",
              "std          6.01   5303695.59   268813.90    8889.33       31163.17   \n",
              "min          1.00         0.00        0.00       0.00           0.00   \n",
              "25%         17.00    383820.75    12421.00       0.00         682.00   \n",
              "50%         22.00    834033.50    33173.50      48.00        1756.00   \n",
              "75%         24.00   1942521.25    90131.00     746.00        4385.00   \n",
              "max         29.00 206202284.00 11795670.00 1229004.00     3607577.00   \n",
              "\n",
              "       trend_year  trend_month  #punctuation_title  #characters  \\\n",
              "count    73736.00     73736.00            73736.00     73736.00   \n",
              "mean      2021.38         6.76                2.46        55.79   \n",
              "std          0.82         3.62                1.90        22.27   \n",
              "min       2020.00         1.00                0.00         1.00   \n",
              "25%       2021.00         3.00                1.00        39.00   \n",
              "50%       2021.00         7.00                2.00        53.00   \n",
              "75%       2022.00        10.00                4.00        72.00   \n",
              "max       2023.00        12.00               31.00       100.00   \n",
              "\n",
              "       #capital_words  ...  ratio_stopwords  ratio_punctuation  \\\n",
              "count        73736.00  ...         73736.00           73736.00   \n",
              "mean             1.53  ...             0.17               0.26   \n",
              "std              2.34  ...             0.16               0.23   \n",
              "min              0.00  ...             0.00               0.00   \n",
              "25%              0.00  ...             0.00               0.12   \n",
              "50%              1.00  ...             0.14               0.22   \n",
              "75%              2.00  ...             0.28               0.36   \n",
              "max             20.00  ...             1.00              24.00   \n",
              "\n",
              "       start_with_digit      day  day_of_the_week  day_of_year  quarter  \\\n",
              "count          73736.00 73736.00         73736.00     73736.00 73736.00   \n",
              "mean               0.03    15.64             2.98       191.29     2.60   \n",
              "std                0.17     8.72             2.02       110.35     1.16   \n",
              "min                0.00     1.00             0.00         1.00     1.00   \n",
              "25%                0.00     8.00             1.00        88.00     1.00   \n",
              "50%                0.00    16.00             3.00       209.00     3.00   \n",
              "75%                0.00    23.00             5.00       287.00     4.00   \n",
              "max                1.00    31.00             6.00       366.00     4.00   \n",
              "\n",
              "       len_tags  weekday_0_weekend_1  subscriber_count  \n",
              "count  73736.00             73736.00          73548.00  \n",
              "mean      15.76                 0.28        6102177.14  \n",
              "std       12.09                 0.45       11613424.51  \n",
              "min        0.00                 0.00             33.00  \n",
              "25%        5.00                 0.00         851000.00  \n",
              "50%       16.00                 0.00        2370000.00  \n",
              "75%       24.00                 1.00        6710000.00  \n",
              "max       77.00                 1.00      239000000.00  \n",
              "\n",
              "[8 rows x 25 columns]"
            ],
            "text/html": [
              "\n",
              "  <div id=\"df-d31f13cb-68e6-4cda-a0c7-78d05faae05d\">\n",
              "    <div class=\"colab-df-container\">\n",
              "      <div>\n",
              "<style scoped>\n",
              "    .dataframe tbody tr th:only-of-type {\n",
              "        vertical-align: middle;\n",
              "    }\n",
              "\n",
              "    .dataframe tbody tr th {\n",
              "        vertical-align: top;\n",
              "    }\n",
              "\n",
              "    .dataframe thead th {\n",
              "        text-align: right;\n",
              "    }\n",
              "</style>\n",
              "<table border=\"1\" class=\"dataframe\">\n",
              "  <thead>\n",
              "    <tr style=\"text-align: right;\">\n",
              "      <th></th>\n",
              "      <th>categoryId</th>\n",
              "      <th>view_count</th>\n",
              "      <th>likes</th>\n",
              "      <th>dislikes</th>\n",
              "      <th>comment_count</th>\n",
              "      <th>trend_year</th>\n",
              "      <th>trend_month</th>\n",
              "      <th>#punctuation_title</th>\n",
              "      <th>#characters</th>\n",
              "      <th>#capital_words</th>\n",
              "      <th>...</th>\n",
              "      <th>ratio_stopwords</th>\n",
              "      <th>ratio_punctuation</th>\n",
              "      <th>start_with_digit</th>\n",
              "      <th>day</th>\n",
              "      <th>day_of_the_week</th>\n",
              "      <th>day_of_year</th>\n",
              "      <th>quarter</th>\n",
              "      <th>len_tags</th>\n",
              "      <th>weekday_0_weekend_1</th>\n",
              "      <th>subscriber_count</th>\n",
              "    </tr>\n",
              "  </thead>\n",
              "  <tbody>\n",
              "    <tr>\n",
              "      <th>count</th>\n",
              "      <td>73736.00</td>\n",
              "      <td>73736.00</td>\n",
              "      <td>73736.00</td>\n",
              "      <td>73736.00</td>\n",
              "      <td>73736.00</td>\n",
              "      <td>73736.00</td>\n",
              "      <td>73736.00</td>\n",
              "      <td>73736.00</td>\n",
              "      <td>73736.00</td>\n",
              "      <td>73736.00</td>\n",
              "      <td>...</td>\n",
              "      <td>73736.00</td>\n",
              "      <td>73736.00</td>\n",
              "      <td>73736.00</td>\n",
              "      <td>73736.00</td>\n",
              "      <td>73736.00</td>\n",
              "      <td>73736.00</td>\n",
              "      <td>73736.00</td>\n",
              "      <td>73736.00</td>\n",
              "      <td>73736.00</td>\n",
              "      <td>73548.00</td>\n",
              "    </tr>\n",
              "    <tr>\n",
              "      <th>mean</th>\n",
              "      <td>19.99</td>\n",
              "      <td>2082640.98</td>\n",
              "      <td>101553.19</td>\n",
              "      <td>1460.62</td>\n",
              "      <td>5507.50</td>\n",
              "      <td>2021.38</td>\n",
              "      <td>6.76</td>\n",
              "      <td>2.46</td>\n",
              "      <td>55.79</td>\n",
              "      <td>1.53</td>\n",
              "      <td>...</td>\n",
              "      <td>0.17</td>\n",
              "      <td>0.26</td>\n",
              "      <td>0.03</td>\n",
              "      <td>15.64</td>\n",
              "      <td>2.98</td>\n",
              "      <td>191.29</td>\n",
              "      <td>2.60</td>\n",
              "      <td>15.76</td>\n",
              "      <td>0.28</td>\n",
              "      <td>6102177.14</td>\n",
              "    </tr>\n",
              "    <tr>\n",
              "      <th>std</th>\n",
              "      <td>6.01</td>\n",
              "      <td>5303695.59</td>\n",
              "      <td>268813.90</td>\n",
              "      <td>8889.33</td>\n",
              "      <td>31163.17</td>\n",
              "      <td>0.82</td>\n",
              "      <td>3.62</td>\n",
              "      <td>1.90</td>\n",
              "      <td>22.27</td>\n",
              "      <td>2.34</td>\n",
              "      <td>...</td>\n",
              "      <td>0.16</td>\n",
              "      <td>0.23</td>\n",
              "      <td>0.17</td>\n",
              "      <td>8.72</td>\n",
              "      <td>2.02</td>\n",
              "      <td>110.35</td>\n",
              "      <td>1.16</td>\n",
              "      <td>12.09</td>\n",
              "      <td>0.45</td>\n",
              "      <td>11613424.51</td>\n",
              "    </tr>\n",
              "    <tr>\n",
              "      <th>min</th>\n",
              "      <td>1.00</td>\n",
              "      <td>0.00</td>\n",
              "      <td>0.00</td>\n",
              "      <td>0.00</td>\n",
              "      <td>0.00</td>\n",
              "      <td>2020.00</td>\n",
              "      <td>1.00</td>\n",
              "      <td>0.00</td>\n",
              "      <td>1.00</td>\n",
              "      <td>0.00</td>\n",
              "      <td>...</td>\n",
              "      <td>0.00</td>\n",
              "      <td>0.00</td>\n",
              "      <td>0.00</td>\n",
              "      <td>1.00</td>\n",
              "      <td>0.00</td>\n",
              "      <td>1.00</td>\n",
              "      <td>1.00</td>\n",
              "      <td>0.00</td>\n",
              "      <td>0.00</td>\n",
              "      <td>33.00</td>\n",
              "    </tr>\n",
              "    <tr>\n",
              "      <th>25%</th>\n",
              "      <td>17.00</td>\n",
              "      <td>383820.75</td>\n",
              "      <td>12421.00</td>\n",
              "      <td>0.00</td>\n",
              "      <td>682.00</td>\n",
              "      <td>2021.00</td>\n",
              "      <td>3.00</td>\n",
              "      <td>1.00</td>\n",
              "      <td>39.00</td>\n",
              "      <td>0.00</td>\n",
              "      <td>...</td>\n",
              "      <td>0.00</td>\n",
              "      <td>0.12</td>\n",
              "      <td>0.00</td>\n",
              "      <td>8.00</td>\n",
              "      <td>1.00</td>\n",
              "      <td>88.00</td>\n",
              "      <td>1.00</td>\n",
              "      <td>5.00</td>\n",
              "      <td>0.00</td>\n",
              "      <td>851000.00</td>\n",
              "    </tr>\n",
              "    <tr>\n",
              "      <th>50%</th>\n",
              "      <td>22.00</td>\n",
              "      <td>834033.50</td>\n",
              "      <td>33173.50</td>\n",
              "      <td>48.00</td>\n",
              "      <td>1756.00</td>\n",
              "      <td>2021.00</td>\n",
              "      <td>7.00</td>\n",
              "      <td>2.00</td>\n",
              "      <td>53.00</td>\n",
              "      <td>1.00</td>\n",
              "      <td>...</td>\n",
              "      <td>0.14</td>\n",
              "      <td>0.22</td>\n",
              "      <td>0.00</td>\n",
              "      <td>16.00</td>\n",
              "      <td>3.00</td>\n",
              "      <td>209.00</td>\n",
              "      <td>3.00</td>\n",
              "      <td>16.00</td>\n",
              "      <td>0.00</td>\n",
              "      <td>2370000.00</td>\n",
              "    </tr>\n",
              "    <tr>\n",
              "      <th>75%</th>\n",
              "      <td>24.00</td>\n",
              "      <td>1942521.25</td>\n",
              "      <td>90131.00</td>\n",
              "      <td>746.00</td>\n",
              "      <td>4385.00</td>\n",
              "      <td>2022.00</td>\n",
              "      <td>10.00</td>\n",
              "      <td>4.00</td>\n",
              "      <td>72.00</td>\n",
              "      <td>2.00</td>\n",
              "      <td>...</td>\n",
              "      <td>0.28</td>\n",
              "      <td>0.36</td>\n",
              "      <td>0.00</td>\n",
              "      <td>23.00</td>\n",
              "      <td>5.00</td>\n",
              "      <td>287.00</td>\n",
              "      <td>4.00</td>\n",
              "      <td>24.00</td>\n",
              "      <td>1.00</td>\n",
              "      <td>6710000.00</td>\n",
              "    </tr>\n",
              "    <tr>\n",
              "      <th>max</th>\n",
              "      <td>29.00</td>\n",
              "      <td>206202284.00</td>\n",
              "      <td>11795670.00</td>\n",
              "      <td>1229004.00</td>\n",
              "      <td>3607577.00</td>\n",
              "      <td>2023.00</td>\n",
              "      <td>12.00</td>\n",
              "      <td>31.00</td>\n",
              "      <td>100.00</td>\n",
              "      <td>20.00</td>\n",
              "      <td>...</td>\n",
              "      <td>1.00</td>\n",
              "      <td>24.00</td>\n",
              "      <td>1.00</td>\n",
              "      <td>31.00</td>\n",
              "      <td>6.00</td>\n",
              "      <td>366.00</td>\n",
              "      <td>4.00</td>\n",
              "      <td>77.00</td>\n",
              "      <td>1.00</td>\n",
              "      <td>239000000.00</td>\n",
              "    </tr>\n",
              "  </tbody>\n",
              "</table>\n",
              "<p>8 rows × 25 columns</p>\n",
              "</div>\n",
              "      <button class=\"colab-df-convert\" onclick=\"convertToInteractive('df-d31f13cb-68e6-4cda-a0c7-78d05faae05d')\"\n",
              "              title=\"Convert this dataframe to an interactive table.\"\n",
              "              style=\"display:none;\">\n",
              "        \n",
              "  <svg xmlns=\"http://www.w3.org/2000/svg\" height=\"24px\"viewBox=\"0 0 24 24\"\n",
              "       width=\"24px\">\n",
              "    <path d=\"M0 0h24v24H0V0z\" fill=\"none\"/>\n",
              "    <path d=\"M18.56 5.44l.94 2.06.94-2.06 2.06-.94-2.06-.94-.94-2.06-.94 2.06-2.06.94zm-11 1L8.5 8.5l.94-2.06 2.06-.94-2.06-.94L8.5 2.5l-.94 2.06-2.06.94zm10 10l.94 2.06.94-2.06 2.06-.94-2.06-.94-.94-2.06-.94 2.06-2.06.94z\"/><path d=\"M17.41 7.96l-1.37-1.37c-.4-.4-.92-.59-1.43-.59-.52 0-1.04.2-1.43.59L10.3 9.45l-7.72 7.72c-.78.78-.78 2.05 0 2.83L4 21.41c.39.39.9.59 1.41.59.51 0 1.02-.2 1.41-.59l7.78-7.78 2.81-2.81c.8-.78.8-2.07 0-2.86zM5.41 20L4 18.59l7.72-7.72 1.47 1.35L5.41 20z\"/>\n",
              "  </svg>\n",
              "      </button>\n",
              "      \n",
              "  <style>\n",
              "    .colab-df-container {\n",
              "      display:flex;\n",
              "      flex-wrap:wrap;\n",
              "      gap: 12px;\n",
              "    }\n",
              "\n",
              "    .colab-df-convert {\n",
              "      background-color: #E8F0FE;\n",
              "      border: none;\n",
              "      border-radius: 50%;\n",
              "      cursor: pointer;\n",
              "      display: none;\n",
              "      fill: #1967D2;\n",
              "      height: 32px;\n",
              "      padding: 0 0 0 0;\n",
              "      width: 32px;\n",
              "    }\n",
              "\n",
              "    .colab-df-convert:hover {\n",
              "      background-color: #E2EBFA;\n",
              "      box-shadow: 0px 1px 2px rgba(60, 64, 67, 0.3), 0px 1px 3px 1px rgba(60, 64, 67, 0.15);\n",
              "      fill: #174EA6;\n",
              "    }\n",
              "\n",
              "    [theme=dark] .colab-df-convert {\n",
              "      background-color: #3B4455;\n",
              "      fill: #D2E3FC;\n",
              "    }\n",
              "\n",
              "    [theme=dark] .colab-df-convert:hover {\n",
              "      background-color: #434B5C;\n",
              "      box-shadow: 0px 1px 3px 1px rgba(0, 0, 0, 0.15);\n",
              "      filter: drop-shadow(0px 1px 2px rgba(0, 0, 0, 0.3));\n",
              "      fill: #FFFFFF;\n",
              "    }\n",
              "  </style>\n",
              "\n",
              "      <script>\n",
              "        const buttonEl =\n",
              "          document.querySelector('#df-d31f13cb-68e6-4cda-a0c7-78d05faae05d button.colab-df-convert');\n",
              "        buttonEl.style.display =\n",
              "          google.colab.kernel.accessAllowed ? 'block' : 'none';\n",
              "\n",
              "        async function convertToInteractive(key) {\n",
              "          const element = document.querySelector('#df-d31f13cb-68e6-4cda-a0c7-78d05faae05d');\n",
              "          const dataTable =\n",
              "            await google.colab.kernel.invokeFunction('convertToInteractive',\n",
              "                                                     [key], {});\n",
              "          if (!dataTable) return;\n",
              "\n",
              "          const docLinkHtml = 'Like what you see? Visit the ' +\n",
              "            '<a target=\"_blank\" href=https://colab.research.google.com/notebooks/data_table.ipynb>data table notebook</a>'\n",
              "            + ' to learn more about interactive tables.';\n",
              "          element.innerHTML = '';\n",
              "          dataTable['output_type'] = 'display_data';\n",
              "          await google.colab.output.renderOutput(dataTable, element);\n",
              "          const docLink = document.createElement('div');\n",
              "          docLink.innerHTML = docLinkHtml;\n",
              "          element.appendChild(docLink);\n",
              "        }\n",
              "      </script>\n",
              "    </div>\n",
              "  </div>\n",
              "  "
            ]
          },
          "metadata": {},
          "execution_count": 6
        }
      ]
    },
    {
      "cell_type": "code",
      "source": [
        "### removing rows greater than 100 milliom\n",
        "#df_eng=df_eng[df_eng['view_count']<10000000]\n"
      ],
      "metadata": {
        "id": "PHTkmPKh8LON"
      },
      "execution_count": null,
      "outputs": []
    },
    {
      "cell_type": "code",
      "source": [
        "#!pip install -q transformers"
      ],
      "metadata": {
        "id": "Q1LHSrlcS-Fx"
      },
      "execution_count": null,
      "outputs": []
    },
    {
      "cell_type": "code",
      "source": [
        "#!pip install sentencepiece "
      ],
      "metadata": {
        "id": "8Xd2_AFKUsey"
      },
      "execution_count": null,
      "outputs": []
    },
    {
      "cell_type": "code",
      "source": [
        "# from transformers import AutoModelForSequenceClassification\n",
        "# from transformers import TFAutoModelForSequenceClassification\n",
        "# from transformers import AutoTokenizer, AutoConfig\n",
        "# import numpy as np\n",
        "# from scipy.special import softmax\n",
        "# import re\n",
        "# # Preprocess text (username and link placeholders)\n",
        "# def preprocess(text):\n",
        "    \n",
        "#     # Remove punctuations and numbers\n",
        "#     sentence = re.sub('[^a-zA-Z]', ' ', text)\n",
        "\n",
        "#     # Single character removal\n",
        "#     sentence = re.sub(r\"\\s+[a-zA-Z]\\s+\", ' ', sentence)\n",
        "\n",
        "#     # Removing multiple spaces\n",
        "#     sentence = re.sub(r'\\s+', ' ', sentence)\n",
        "\n",
        "#     return sentence\n",
        "\n",
        "# MODEL = f\"cardiffnlp/twitter-xlm-roberta-base-sentiment\"\n",
        "\n",
        "# tokenizer = AutoTokenizer.from_pretrained(MODEL)\n",
        "# config = AutoConfig.from_pretrained(MODEL)\n",
        "\n",
        "# # PT\n",
        "# model = AutoModelForSequenceClassification.from_pretrained(MODEL)\n",
        "# model.save_pretrained(MODEL)\n",
        "\n"
      ],
      "metadata": {
        "id": "KsXArDrbTBBo"
      },
      "execution_count": null,
      "outputs": []
    },
    {
      "cell_type": "code",
      "source": [
        "# def senti(text):\n",
        "#   text = preprocess(text)\n",
        "#   encoded_input = tokenizer(text, return_tensors='pt')\n",
        "#   output = model(**encoded_input)\n",
        "#   scores = output[0][0].detach().numpy()\n",
        "#   scores = softmax(scores)\n",
        "#   return(scores[2])"
      ],
      "metadata": {
        "id": "UBtipXS0Wb1Y"
      },
      "execution_count": null,
      "outputs": []
    },
    {
      "cell_type": "code",
      "source": [
        "## high number represents high positive sentiment\n",
        "#df_eng['title_sentiment']=df_eng.title.apply(lambda x:senti(x))"
      ],
      "metadata": {
        "id": "KN5KPaTNWCbY"
      },
      "execution_count": null,
      "outputs": []
    },
    {
      "cell_type": "code",
      "source": [
        "#df_eng[[\"video_id\",\"title_sentiment\"]].to_csv(\"/content/drive/MyDrive/Data Mining Assignment/video_sentiment.csv\",index=False)"
      ],
      "metadata": {
        "id": "WxBsjOUXHdzi"
      },
      "execution_count": null,
      "outputs": []
    },
    {
      "cell_type": "code",
      "source": [
        "senti=pd.read_csv(\"/content/drive/MyDrive/Data Mining Assignment/video_sentiment.csv\")\n",
        "df_eng=df_eng.merge(senti,left_on='video_id',right_on='video_id',how='left')\n",
        "df_eng.head()"
      ],
      "metadata": {
        "colab": {
          "base_uri": "https://localhost:8080/"
        },
        "id": "S9y1f26CLHMJ",
        "outputId": "dcec6983-718b-4c34-9421-75fdff9ac85d"
      },
      "execution_count": null,
      "outputs": [
        {
          "output_type": "execute_result",
          "data": {
            "text/plain": [
              "      video_id                                           title  \\\n",
              "0  AWXvClaRtsI                     Celebrating Maria Tallchief   \n",
              "1  Hb3rmh-_FMw         Introducing the shorter side of YouTube   \n",
              "2  G1mi7J-VtHk     Committal Service for Her Majesty The Queen   \n",
              "3  r7nYQXsxJdU       HBCU Homecoming 2020: Meet Me On The Yard   \n",
              "4  8fPKj1aySB4  The Queen’s children hold a Vigil in Edinburgh   \n",
              "\n",
              "            publishedAt                 channelId       channelTitle  \\\n",
              "0  2020-11-14T22:39:13Z  UCdq61m8s_48EhJ5OM_MCeGw      GoogleDoodles   \n",
              "1  2021-08-10T15:04:25Z  UCBR8-60-B28hp2BmDPdntcQ            YouTube   \n",
              "2  2022-09-19T16:03:18Z  UCTkC3Jt91QkqNAE4FGWkEIQ   The Royal Family   \n",
              "3  2020-10-25T01:40:31Z  UCqVDpXKLmKeBU_yyt_QkItQ  YouTube Originals   \n",
              "4  2022-09-12T19:01:28Z  UCTkC3Jt91QkqNAE4FGWkEIQ   The Royal Family   \n",
              "\n",
              "   categoryId              trending_date  \\\n",
              "0          10  2020-11-21 00:00:00+00:00   \n",
              "1          27  2021-08-15 00:00:00+00:00   \n",
              "2          22  2022-09-23 00:00:00+00:00   \n",
              "3          24  2020-10-29 00:00:00+00:00   \n",
              "4          22  2022-09-18 00:00:00+00:00   \n",
              "\n",
              "                                                tags  view_count  likes  ...  \\\n",
              "0                                             [None]           0      0  ...   \n",
              "1                                             [None]           0  22585  ...   \n",
              "2                                             [None]           0      0  ...   \n",
              "3  2 CHAINZ|DESI BANKS|LIONEL RICHIE |LANCE GROSS...           0   4420  ...   \n",
              "4                                             [None]           0      0  ...   \n",
              "\n",
              "                      ts_utc  day day_of_the_week  day_of_year  quarter  \\\n",
              "0  2020-11-14 22:39:13+00:00   14               5          319        4   \n",
              "1  2021-08-10 15:04:25+00:00   10               1          222        3   \n",
              "2  2022-09-19 16:03:18+00:00   19               0          262        3   \n",
              "3  2020-10-25 01:40:31+00:00   25               6          299        4   \n",
              "4  2022-09-12 19:01:28+00:00   12               0          255        3   \n",
              "\n",
              "                                           tags_list len_tags  \\\n",
              "0                                                 []        0   \n",
              "1                                                 []        0   \n",
              "2                                                 []        0   \n",
              "3  ['2 CHAINZ', 'DESI BANKS', 'LIONEL RICHIE ', '...       26   \n",
              "4                                                 []        0   \n",
              "\n",
              "  weekday_0_weekend_1  subscriber_count  title_sentiment  \n",
              "0                   1        2190000.00             0.48  \n",
              "1                   0       35500000.00             0.19  \n",
              "2                   0        1130000.00             0.78  \n",
              "3                   1        6750000.00             0.16  \n",
              "4                   0        1130000.00             0.22  \n",
              "\n",
              "[5 rows x 42 columns]"
            ],
            "text/html": [
              "\n",
              "  <div id=\"df-f204ab5e-fa78-42fd-9c20-7a65e21261f3\">\n",
              "    <div class=\"colab-df-container\">\n",
              "      <div>\n",
              "<style scoped>\n",
              "    .dataframe tbody tr th:only-of-type {\n",
              "        vertical-align: middle;\n",
              "    }\n",
              "\n",
              "    .dataframe tbody tr th {\n",
              "        vertical-align: top;\n",
              "    }\n",
              "\n",
              "    .dataframe thead th {\n",
              "        text-align: right;\n",
              "    }\n",
              "</style>\n",
              "<table border=\"1\" class=\"dataframe\">\n",
              "  <thead>\n",
              "    <tr style=\"text-align: right;\">\n",
              "      <th></th>\n",
              "      <th>video_id</th>\n",
              "      <th>title</th>\n",
              "      <th>publishedAt</th>\n",
              "      <th>channelId</th>\n",
              "      <th>channelTitle</th>\n",
              "      <th>categoryId</th>\n",
              "      <th>trending_date</th>\n",
              "      <th>tags</th>\n",
              "      <th>view_count</th>\n",
              "      <th>likes</th>\n",
              "      <th>...</th>\n",
              "      <th>ts_utc</th>\n",
              "      <th>day</th>\n",
              "      <th>day_of_the_week</th>\n",
              "      <th>day_of_year</th>\n",
              "      <th>quarter</th>\n",
              "      <th>tags_list</th>\n",
              "      <th>len_tags</th>\n",
              "      <th>weekday_0_weekend_1</th>\n",
              "      <th>subscriber_count</th>\n",
              "      <th>title_sentiment</th>\n",
              "    </tr>\n",
              "  </thead>\n",
              "  <tbody>\n",
              "    <tr>\n",
              "      <th>0</th>\n",
              "      <td>AWXvClaRtsI</td>\n",
              "      <td>Celebrating Maria Tallchief</td>\n",
              "      <td>2020-11-14T22:39:13Z</td>\n",
              "      <td>UCdq61m8s_48EhJ5OM_MCeGw</td>\n",
              "      <td>GoogleDoodles</td>\n",
              "      <td>10</td>\n",
              "      <td>2020-11-21 00:00:00+00:00</td>\n",
              "      <td>[None]</td>\n",
              "      <td>0</td>\n",
              "      <td>0</td>\n",
              "      <td>...</td>\n",
              "      <td>2020-11-14 22:39:13+00:00</td>\n",
              "      <td>14</td>\n",
              "      <td>5</td>\n",
              "      <td>319</td>\n",
              "      <td>4</td>\n",
              "      <td>[]</td>\n",
              "      <td>0</td>\n",
              "      <td>1</td>\n",
              "      <td>2190000.00</td>\n",
              "      <td>0.48</td>\n",
              "    </tr>\n",
              "    <tr>\n",
              "      <th>1</th>\n",
              "      <td>Hb3rmh-_FMw</td>\n",
              "      <td>Introducing the shorter side of YouTube</td>\n",
              "      <td>2021-08-10T15:04:25Z</td>\n",
              "      <td>UCBR8-60-B28hp2BmDPdntcQ</td>\n",
              "      <td>YouTube</td>\n",
              "      <td>27</td>\n",
              "      <td>2021-08-15 00:00:00+00:00</td>\n",
              "      <td>[None]</td>\n",
              "      <td>0</td>\n",
              "      <td>22585</td>\n",
              "      <td>...</td>\n",
              "      <td>2021-08-10 15:04:25+00:00</td>\n",
              "      <td>10</td>\n",
              "      <td>1</td>\n",
              "      <td>222</td>\n",
              "      <td>3</td>\n",
              "      <td>[]</td>\n",
              "      <td>0</td>\n",
              "      <td>0</td>\n",
              "      <td>35500000.00</td>\n",
              "      <td>0.19</td>\n",
              "    </tr>\n",
              "    <tr>\n",
              "      <th>2</th>\n",
              "      <td>G1mi7J-VtHk</td>\n",
              "      <td>Committal Service for Her Majesty The Queen</td>\n",
              "      <td>2022-09-19T16:03:18Z</td>\n",
              "      <td>UCTkC3Jt91QkqNAE4FGWkEIQ</td>\n",
              "      <td>The Royal Family</td>\n",
              "      <td>22</td>\n",
              "      <td>2022-09-23 00:00:00+00:00</td>\n",
              "      <td>[None]</td>\n",
              "      <td>0</td>\n",
              "      <td>0</td>\n",
              "      <td>...</td>\n",
              "      <td>2022-09-19 16:03:18+00:00</td>\n",
              "      <td>19</td>\n",
              "      <td>0</td>\n",
              "      <td>262</td>\n",
              "      <td>3</td>\n",
              "      <td>[]</td>\n",
              "      <td>0</td>\n",
              "      <td>0</td>\n",
              "      <td>1130000.00</td>\n",
              "      <td>0.78</td>\n",
              "    </tr>\n",
              "    <tr>\n",
              "      <th>3</th>\n",
              "      <td>r7nYQXsxJdU</td>\n",
              "      <td>HBCU Homecoming 2020: Meet Me On The Yard</td>\n",
              "      <td>2020-10-25T01:40:31Z</td>\n",
              "      <td>UCqVDpXKLmKeBU_yyt_QkItQ</td>\n",
              "      <td>YouTube Originals</td>\n",
              "      <td>24</td>\n",
              "      <td>2020-10-29 00:00:00+00:00</td>\n",
              "      <td>2 CHAINZ|DESI BANKS|LIONEL RICHIE |LANCE GROSS...</td>\n",
              "      <td>0</td>\n",
              "      <td>4420</td>\n",
              "      <td>...</td>\n",
              "      <td>2020-10-25 01:40:31+00:00</td>\n",
              "      <td>25</td>\n",
              "      <td>6</td>\n",
              "      <td>299</td>\n",
              "      <td>4</td>\n",
              "      <td>['2 CHAINZ', 'DESI BANKS', 'LIONEL RICHIE ', '...</td>\n",
              "      <td>26</td>\n",
              "      <td>1</td>\n",
              "      <td>6750000.00</td>\n",
              "      <td>0.16</td>\n",
              "    </tr>\n",
              "    <tr>\n",
              "      <th>4</th>\n",
              "      <td>8fPKj1aySB4</td>\n",
              "      <td>The Queen’s children hold a Vigil in Edinburgh</td>\n",
              "      <td>2022-09-12T19:01:28Z</td>\n",
              "      <td>UCTkC3Jt91QkqNAE4FGWkEIQ</td>\n",
              "      <td>The Royal Family</td>\n",
              "      <td>22</td>\n",
              "      <td>2022-09-18 00:00:00+00:00</td>\n",
              "      <td>[None]</td>\n",
              "      <td>0</td>\n",
              "      <td>0</td>\n",
              "      <td>...</td>\n",
              "      <td>2022-09-12 19:01:28+00:00</td>\n",
              "      <td>12</td>\n",
              "      <td>0</td>\n",
              "      <td>255</td>\n",
              "      <td>3</td>\n",
              "      <td>[]</td>\n",
              "      <td>0</td>\n",
              "      <td>0</td>\n",
              "      <td>1130000.00</td>\n",
              "      <td>0.22</td>\n",
              "    </tr>\n",
              "  </tbody>\n",
              "</table>\n",
              "<p>5 rows × 42 columns</p>\n",
              "</div>\n",
              "      <button class=\"colab-df-convert\" onclick=\"convertToInteractive('df-f204ab5e-fa78-42fd-9c20-7a65e21261f3')\"\n",
              "              title=\"Convert this dataframe to an interactive table.\"\n",
              "              style=\"display:none;\">\n",
              "        \n",
              "  <svg xmlns=\"http://www.w3.org/2000/svg\" height=\"24px\"viewBox=\"0 0 24 24\"\n",
              "       width=\"24px\">\n",
              "    <path d=\"M0 0h24v24H0V0z\" fill=\"none\"/>\n",
              "    <path d=\"M18.56 5.44l.94 2.06.94-2.06 2.06-.94-2.06-.94-.94-2.06-.94 2.06-2.06.94zm-11 1L8.5 8.5l.94-2.06 2.06-.94-2.06-.94L8.5 2.5l-.94 2.06-2.06.94zm10 10l.94 2.06.94-2.06 2.06-.94-2.06-.94-.94-2.06-.94 2.06-2.06.94z\"/><path d=\"M17.41 7.96l-1.37-1.37c-.4-.4-.92-.59-1.43-.59-.52 0-1.04.2-1.43.59L10.3 9.45l-7.72 7.72c-.78.78-.78 2.05 0 2.83L4 21.41c.39.39.9.59 1.41.59.51 0 1.02-.2 1.41-.59l7.78-7.78 2.81-2.81c.8-.78.8-2.07 0-2.86zM5.41 20L4 18.59l7.72-7.72 1.47 1.35L5.41 20z\"/>\n",
              "  </svg>\n",
              "      </button>\n",
              "      \n",
              "  <style>\n",
              "    .colab-df-container {\n",
              "      display:flex;\n",
              "      flex-wrap:wrap;\n",
              "      gap: 12px;\n",
              "    }\n",
              "\n",
              "    .colab-df-convert {\n",
              "      background-color: #E8F0FE;\n",
              "      border: none;\n",
              "      border-radius: 50%;\n",
              "      cursor: pointer;\n",
              "      display: none;\n",
              "      fill: #1967D2;\n",
              "      height: 32px;\n",
              "      padding: 0 0 0 0;\n",
              "      width: 32px;\n",
              "    }\n",
              "\n",
              "    .colab-df-convert:hover {\n",
              "      background-color: #E2EBFA;\n",
              "      box-shadow: 0px 1px 2px rgba(60, 64, 67, 0.3), 0px 1px 3px 1px rgba(60, 64, 67, 0.15);\n",
              "      fill: #174EA6;\n",
              "    }\n",
              "\n",
              "    [theme=dark] .colab-df-convert {\n",
              "      background-color: #3B4455;\n",
              "      fill: #D2E3FC;\n",
              "    }\n",
              "\n",
              "    [theme=dark] .colab-df-convert:hover {\n",
              "      background-color: #434B5C;\n",
              "      box-shadow: 0px 1px 3px 1px rgba(0, 0, 0, 0.15);\n",
              "      filter: drop-shadow(0px 1px 2px rgba(0, 0, 0, 0.3));\n",
              "      fill: #FFFFFF;\n",
              "    }\n",
              "  </style>\n",
              "\n",
              "      <script>\n",
              "        const buttonEl =\n",
              "          document.querySelector('#df-f204ab5e-fa78-42fd-9c20-7a65e21261f3 button.colab-df-convert');\n",
              "        buttonEl.style.display =\n",
              "          google.colab.kernel.accessAllowed ? 'block' : 'none';\n",
              "\n",
              "        async function convertToInteractive(key) {\n",
              "          const element = document.querySelector('#df-f204ab5e-fa78-42fd-9c20-7a65e21261f3');\n",
              "          const dataTable =\n",
              "            await google.colab.kernel.invokeFunction('convertToInteractive',\n",
              "                                                     [key], {});\n",
              "          if (!dataTable) return;\n",
              "\n",
              "          const docLinkHtml = 'Like what you see? Visit the ' +\n",
              "            '<a target=\"_blank\" href=https://colab.research.google.com/notebooks/data_table.ipynb>data table notebook</a>'\n",
              "            + ' to learn more about interactive tables.';\n",
              "          element.innerHTML = '';\n",
              "          dataTable['output_type'] = 'display_data';\n",
              "          await google.colab.output.renderOutput(dataTable, element);\n",
              "          const docLink = document.createElement('div');\n",
              "          docLink.innerHTML = docLinkHtml;\n",
              "          element.appendChild(docLink);\n",
              "        }\n",
              "      </script>\n",
              "    </div>\n",
              "  </div>\n",
              "  "
            ]
          },
          "metadata": {},
          "execution_count": 14
        }
      ]
    },
    {
      "cell_type": "code",
      "source": [
        "youtube_data=pd.read_csv(\"/content/drive/MyDrive/Data Mining Assignment/api_fields_73736.csv\")\n",
        "df_eng=df_eng.merge(youtube_data,left_on='video_id',right_on='video_id',how='left')"
      ],
      "metadata": {
        "id": "cj_kXdQ1hSdI"
      },
      "execution_count": null,
      "outputs": []
    },
    {
      "cell_type": "code",
      "source": [
        "df_eng.columns"
      ],
      "metadata": {
        "colab": {
          "base_uri": "https://localhost:8080/"
        },
        "id": "gu8rL_mZhwis",
        "outputId": "a4364d83-72e1-4483-8d9c-e21fb3838a64"
      },
      "execution_count": null,
      "outputs": [
        {
          "output_type": "execute_result",
          "data": {
            "text/plain": [
              "Index(['video_id', 'title', 'publishedAt', 'channelId', 'channelTitle',\n",
              "       'categoryId', 'trending_date', 'tags', 'view_count', 'likes',\n",
              "       'dislikes', 'comment_count', 'thumbnail_link', 'comments_disabled',\n",
              "       'ratings_disabled', 'description', 'Category_Title', 'country',\n",
              "       'trend_year', 'trend_month', 'language', '#punctuation_title',\n",
              "       '#characters', '#capital_words', '#lower_words', '#words',\n",
              "       '#stop_words', 'Avg_word_len', 'contains_digit', 'ratio_stopwords',\n",
              "       'ratio_punctuation', 'start_with_digit', 'ts_utc', 'day',\n",
              "       'day_of_the_week', 'day_of_year', 'quarter', 'tags_list', 'len_tags',\n",
              "       'weekday_0_weekend_1', 'subscriber_count', 'title_sentiment',\n",
              "       'video_duration_mins', 'video_definition'],\n",
              "      dtype='object')"
            ]
          },
          "metadata": {},
          "execution_count": 16
        }
      ]
    },
    {
      "cell_type": "code",
      "source": [
        "### dropping view count 0 as it is a bug\n",
        "df_eng=df_eng[df_eng['view_count']>0].reset_index(drop=True)\n",
        "#drop null category title as the mapping file was not given\n",
        "df_eng=df_eng[df_eng['Category_Title'].notnull()].reset_index(drop=True)"
      ],
      "metadata": {
        "id": "U6bZwMXJS6nZ"
      },
      "execution_count": null,
      "outputs": []
    },
    {
      "cell_type": "code",
      "source": [
        "## impute video definition NA\n",
        "df_eng.video_definition.value_counts(dropna=False)\n",
        "df_eng=df_eng[df_eng['video_definition'].notnull()].reset_index(drop=True)"
      ],
      "metadata": {
        "id": "fCcozmFUiNH6"
      },
      "execution_count": null,
      "outputs": []
    },
    {
      "cell_type": "code",
      "source": [
        "df_eng=df_eng[df_eng['subscriber_count'].notnull()].reset_index(drop=True)"
      ],
      "metadata": {
        "id": "TMOqponrinka"
      },
      "execution_count": null,
      "outputs": []
    },
    {
      "cell_type": "code",
      "source": [
        "df_eng[df_eng['video_duration_mins']==0]"
      ],
      "metadata": {
        "colab": {
          "base_uri": "https://localhost:8080/"
        },
        "id": "wSJf7RTSk-2Y",
        "outputId": "252d6340-c05a-46d9-aeeb-6335232318d7"
      },
      "execution_count": null,
      "outputs": [
        {
          "output_type": "execute_result",
          "data": {
            "text/plain": [
              "Empty DataFrame\n",
              "Columns: [video_id, title, publishedAt, channelId, channelTitle, categoryId, trending_date, tags, view_count, likes, dislikes, comment_count, thumbnail_link, comments_disabled, ratings_disabled, description, Category_Title, country, trend_year, trend_month, language, #punctuation_title, #characters, #capital_words, #lower_words, #words, #stop_words, Avg_word_len, contains_digit, ratio_stopwords, ratio_punctuation, start_with_digit, ts_utc, day, day_of_the_week, day_of_year, quarter, tags_list, len_tags, weekday_0_weekend_1, subscriber_count, title_sentiment, video_duration_mins, video_definition]\n",
              "Index: []\n",
              "\n",
              "[0 rows x 44 columns]"
            ],
            "text/html": [
              "\n",
              "  <div id=\"df-be12cdbc-3d2d-4f3d-9d8e-a00ed6e7613c\">\n",
              "    <div class=\"colab-df-container\">\n",
              "      <div>\n",
              "<style scoped>\n",
              "    .dataframe tbody tr th:only-of-type {\n",
              "        vertical-align: middle;\n",
              "    }\n",
              "\n",
              "    .dataframe tbody tr th {\n",
              "        vertical-align: top;\n",
              "    }\n",
              "\n",
              "    .dataframe thead th {\n",
              "        text-align: right;\n",
              "    }\n",
              "</style>\n",
              "<table border=\"1\" class=\"dataframe\">\n",
              "  <thead>\n",
              "    <tr style=\"text-align: right;\">\n",
              "      <th></th>\n",
              "      <th>video_id</th>\n",
              "      <th>title</th>\n",
              "      <th>publishedAt</th>\n",
              "      <th>channelId</th>\n",
              "      <th>channelTitle</th>\n",
              "      <th>categoryId</th>\n",
              "      <th>trending_date</th>\n",
              "      <th>tags</th>\n",
              "      <th>view_count</th>\n",
              "      <th>likes</th>\n",
              "      <th>...</th>\n",
              "      <th>day_of_the_week</th>\n",
              "      <th>day_of_year</th>\n",
              "      <th>quarter</th>\n",
              "      <th>tags_list</th>\n",
              "      <th>len_tags</th>\n",
              "      <th>weekday_0_weekend_1</th>\n",
              "      <th>subscriber_count</th>\n",
              "      <th>title_sentiment</th>\n",
              "      <th>video_duration_mins</th>\n",
              "      <th>video_definition</th>\n",
              "    </tr>\n",
              "  </thead>\n",
              "  <tbody>\n",
              "  </tbody>\n",
              "</table>\n",
              "<p>0 rows × 44 columns</p>\n",
              "</div>\n",
              "      <button class=\"colab-df-convert\" onclick=\"convertToInteractive('df-be12cdbc-3d2d-4f3d-9d8e-a00ed6e7613c')\"\n",
              "              title=\"Convert this dataframe to an interactive table.\"\n",
              "              style=\"display:none;\">\n",
              "        \n",
              "  <svg xmlns=\"http://www.w3.org/2000/svg\" height=\"24px\"viewBox=\"0 0 24 24\"\n",
              "       width=\"24px\">\n",
              "    <path d=\"M0 0h24v24H0V0z\" fill=\"none\"/>\n",
              "    <path d=\"M18.56 5.44l.94 2.06.94-2.06 2.06-.94-2.06-.94-.94-2.06-.94 2.06-2.06.94zm-11 1L8.5 8.5l.94-2.06 2.06-.94-2.06-.94L8.5 2.5l-.94 2.06-2.06.94zm10 10l.94 2.06.94-2.06 2.06-.94-2.06-.94-.94-2.06-.94 2.06-2.06.94z\"/><path d=\"M17.41 7.96l-1.37-1.37c-.4-.4-.92-.59-1.43-.59-.52 0-1.04.2-1.43.59L10.3 9.45l-7.72 7.72c-.78.78-.78 2.05 0 2.83L4 21.41c.39.39.9.59 1.41.59.51 0 1.02-.2 1.41-.59l7.78-7.78 2.81-2.81c.8-.78.8-2.07 0-2.86zM5.41 20L4 18.59l7.72-7.72 1.47 1.35L5.41 20z\"/>\n",
              "  </svg>\n",
              "      </button>\n",
              "      \n",
              "  <style>\n",
              "    .colab-df-container {\n",
              "      display:flex;\n",
              "      flex-wrap:wrap;\n",
              "      gap: 12px;\n",
              "    }\n",
              "\n",
              "    .colab-df-convert {\n",
              "      background-color: #E8F0FE;\n",
              "      border: none;\n",
              "      border-radius: 50%;\n",
              "      cursor: pointer;\n",
              "      display: none;\n",
              "      fill: #1967D2;\n",
              "      height: 32px;\n",
              "      padding: 0 0 0 0;\n",
              "      width: 32px;\n",
              "    }\n",
              "\n",
              "    .colab-df-convert:hover {\n",
              "      background-color: #E2EBFA;\n",
              "      box-shadow: 0px 1px 2px rgba(60, 64, 67, 0.3), 0px 1px 3px 1px rgba(60, 64, 67, 0.15);\n",
              "      fill: #174EA6;\n",
              "    }\n",
              "\n",
              "    [theme=dark] .colab-df-convert {\n",
              "      background-color: #3B4455;\n",
              "      fill: #D2E3FC;\n",
              "    }\n",
              "\n",
              "    [theme=dark] .colab-df-convert:hover {\n",
              "      background-color: #434B5C;\n",
              "      box-shadow: 0px 1px 3px 1px rgba(0, 0, 0, 0.15);\n",
              "      filter: drop-shadow(0px 1px 2px rgba(0, 0, 0, 0.3));\n",
              "      fill: #FFFFFF;\n",
              "    }\n",
              "  </style>\n",
              "\n",
              "      <script>\n",
              "        const buttonEl =\n",
              "          document.querySelector('#df-be12cdbc-3d2d-4f3d-9d8e-a00ed6e7613c button.colab-df-convert');\n",
              "        buttonEl.style.display =\n",
              "          google.colab.kernel.accessAllowed ? 'block' : 'none';\n",
              "\n",
              "        async function convertToInteractive(key) {\n",
              "          const element = document.querySelector('#df-be12cdbc-3d2d-4f3d-9d8e-a00ed6e7613c');\n",
              "          const dataTable =\n",
              "            await google.colab.kernel.invokeFunction('convertToInteractive',\n",
              "                                                     [key], {});\n",
              "          if (!dataTable) return;\n",
              "\n",
              "          const docLinkHtml = 'Like what you see? Visit the ' +\n",
              "            '<a target=\"_blank\" href=https://colab.research.google.com/notebooks/data_table.ipynb>data table notebook</a>'\n",
              "            + ' to learn more about interactive tables.';\n",
              "          element.innerHTML = '';\n",
              "          dataTable['output_type'] = 'display_data';\n",
              "          await google.colab.output.renderOutput(dataTable, element);\n",
              "          const docLink = document.createElement('div');\n",
              "          docLink.innerHTML = docLinkHtml;\n",
              "          element.appendChild(docLink);\n",
              "        }\n",
              "      </script>\n",
              "    </div>\n",
              "  </div>\n",
              "  "
            ]
          },
          "metadata": {},
          "execution_count": 20
        }
      ]
    },
    {
      "cell_type": "code",
      "source": [],
      "metadata": {
        "id": "txroSnveBN_4"
      },
      "execution_count": null,
      "outputs": []
    },
    {
      "cell_type": "code",
      "source": [
        "# df_features=df_eng[['#punctuation_title',\n",
        "#        '#characters', '#capital_words', '#lower_words', '#words',\n",
        "#        '#stop_words', 'Avg_word_len', 'contains_digit', 'ratio_stopwords',\n",
        "#        'ratio_punctuation', 'start_with_digit', 'day',\n",
        "#        'day_of_the_week', 'day_of_year', 'quarter','view_count','len_tags',\n",
        "#        'weekday_0_weekend_1']]\n",
        "numerical_features=['#punctuation_title','#characters','#lower_words', '#words',\n",
        "      '#stop_words', 'Avg_word_len', 'ratio_stopwords',\n",
        "        'ratio_punctuation', '#capital_words',\"len_tags\",\n",
        "        \"likes\",\"dislikes\",\"comment_count\",\"title_sentiment\",\"video_duration_mins\",\"subscriber_count\"]\n",
        "categorical_features=['start_with_digit','contains_digit',\"Category_Title\",\n",
        "        #'day',\n",
        "        'day_of_the_week', \"weekday_0_weekend_1\", \n",
        "        'quarter',\"video_definition\"]\n",
        "\n",
        "y=['view_count']\n"
      ],
      "metadata": {
        "id": "X4mf8m5B74_R"
      },
      "execution_count": null,
      "outputs": []
    },
    {
      "cell_type": "code",
      "source": [
        "df_features=df_eng[numerical_features+categorical_features+y]"
      ],
      "metadata": {
        "id": "0EdZKA6EVNGh"
      },
      "execution_count": null,
      "outputs": []
    },
    {
      "cell_type": "code",
      "source": [
        "len(numerical_features)"
      ],
      "metadata": {
        "colab": {
          "base_uri": "https://localhost:8080/"
        },
        "id": "gPHM2de0rgJH",
        "outputId": "265b4fe0-146d-4865-aa15-ef24601edfca"
      },
      "execution_count": null,
      "outputs": [
        {
          "output_type": "execute_result",
          "data": {
            "text/plain": [
              "16"
            ]
          },
          "metadata": {},
          "execution_count": 23
        }
      ]
    },
    {
      "cell_type": "markdown",
      "source": [
        "##### Preprocessing"
      ],
      "metadata": {
        "id": "g_N-1T9zZ362"
      }
    },
    {
      "cell_type": "code",
      "source": [
        "pd.options.display.float_format = '{:.2f}'.format\n",
        "df_features.view_count.describe()"
      ],
      "metadata": {
        "id": "qp6oiNiOBrHJ",
        "colab": {
          "base_uri": "https://localhost:8080/"
        },
        "outputId": "f8a18bdf-3d51-4829-8ed2-9f46952ab90b"
      },
      "execution_count": null,
      "outputs": [
        {
          "output_type": "execute_result",
          "data": {
            "text/plain": [
              "count       71544.00\n",
              "mean      2071267.29\n",
              "std       5260391.82\n",
              "min         15819.00\n",
              "25%        385974.25\n",
              "50%        838341.50\n",
              "75%       1944402.00\n",
              "max     206202284.00\n",
              "Name: view_count, dtype: float64"
            ]
          },
          "metadata": {},
          "execution_count": 24
        }
      ]
    },
    {
      "cell_type": "code",
      "source": [
        "## One hot encoding  quarter variable\n",
        "df = pd.get_dummies(df_features, columns = [\"Category_Title\",\"video_definition\",\"quarter\",\"day_of_the_week\"],drop_first=True)\n",
        "#df=df_features"
      ],
      "metadata": {
        "id": "Ws0_oO7eAWqO"
      },
      "execution_count": null,
      "outputs": []
    },
    {
      "cell_type": "code",
      "source": [
        "### Adding the new categorical columns to the categorical column list . Also removing the residual columns\n",
        "import numpy as np\n",
        "new=list(np.setdiff1d(df.columns,categorical_features+numerical_features+y))\n",
        "remove=np.setdiff1d(categorical_features+numerical_features+y,df.columns)\n",
        "lis1=list(set(categorical_features)-set(remove))\n",
        "categorical_features = lis1+new"
      ],
      "metadata": {
        "id": "tyFE9SKHjPPc"
      },
      "execution_count": null,
      "outputs": []
    },
    {
      "cell_type": "code",
      "source": [
        "len(numerical_features)"
      ],
      "metadata": {
        "id": "R8Tf1vFnyGC0",
        "colab": {
          "base_uri": "https://localhost:8080/"
        },
        "outputId": "32aa773f-83e1-45b6-b546-346f3b368002"
      },
      "execution_count": null,
      "outputs": [
        {
          "output_type": "execute_result",
          "data": {
            "text/plain": [
              "16"
            ]
          },
          "metadata": {},
          "execution_count": 53
        }
      ]
    },
    {
      "cell_type": "code",
      "source": [
        "Y=df['view_count']\n",
        "log_y=np.log(Y)\n",
        "X=df.drop('view_count',axis=1)"
      ],
      "metadata": {
        "id": "wCsSO1sGBw--"
      },
      "execution_count": null,
      "outputs": []
    },
    {
      "cell_type": "code",
      "source": [
        "df.to_csv(\"/content/drive/MyDrive/Data Mining Assignment/final_preprocessed_data.csv\",index=False)"
      ],
      "metadata": {
        "id": "wiYF9-s-BfFv"
      },
      "execution_count": null,
      "outputs": []
    },
    {
      "cell_type": "code",
      "source": [
        "from sklearn.model_selection import train_test_split\n",
        "X_train, X_test, y_train, y_test = train_test_split(X, log_y, test_size=0.30, random_state=25)"
      ],
      "metadata": {
        "id": "uGidrkHjFA4F"
      },
      "execution_count": null,
      "outputs": []
    },
    {
      "cell_type": "code",
      "source": [
        "X_train[numerical_features].columns"
      ],
      "metadata": {
        "colab": {
          "base_uri": "https://localhost:8080/"
        },
        "id": "xYJklZEhFzO0",
        "outputId": "294ebbf7-4bdb-4975-ae03-fe7b658fb728"
      },
      "execution_count": null,
      "outputs": [
        {
          "output_type": "execute_result",
          "data": {
            "text/plain": [
              "Index(['#punctuation_title', '#characters', '#lower_words', '#words',\n",
              "       '#stop_words', 'Avg_word_len', 'ratio_stopwords', 'ratio_punctuation',\n",
              "       '#capital_words', 'len_tags', 'likes', 'dislikes', 'comment_count',\n",
              "       'title_sentiment', 'video_duration_mins', 'subscriber_count'],\n",
              "      dtype='object')"
            ]
          },
          "metadata": {},
          "execution_count": 31
        }
      ]
    },
    {
      "cell_type": "code",
      "source": [
        "from sklearn.decomposition import PCA\n",
        "pca=PCA()\n",
        "PCA_numerical=pca.fit_transform(X_train[numerical_features])"
      ],
      "metadata": {
        "id": "0oTgyUGQVZ1A"
      },
      "execution_count": null,
      "outputs": []
    },
    {
      "cell_type": "code",
      "source": [
        "test_transf=pca.transform(X_test[numerical_features])\n",
        "train_num=pd.DataFrame(PCA_numerical, columns=pca.get_feature_names_out(),index=X_train.index)\n",
        "tes_num=pd.DataFrame(test_transf, columns=pca.get_feature_names_out(),index=X_test.index)"
      ],
      "metadata": {
        "id": "44lUBitPhrTB"
      },
      "execution_count": null,
      "outputs": []
    },
    {
      "cell_type": "code",
      "source": [
        "sum(pca.explained_variance_ratio_[0:1])"
      ],
      "metadata": {
        "colab": {
          "base_uri": "https://localhost:8080/"
        },
        "id": "jQQvd8DDihiY",
        "outputId": "ac841865-87d7-453f-8290-611b3d77f848"
      },
      "execution_count": null,
      "outputs": [
        {
          "output_type": "execute_result",
          "data": {
            "text/plain": [
              "0.9995326888187789"
            ]
          },
          "metadata": {},
          "execution_count": 34
        }
      ]
    },
    {
      "cell_type": "markdown",
      "source": [
        "Just the first principal component explains almost the entire variance"
      ],
      "metadata": {
        "id": "GbbOyFnJipMO"
      }
    },
    {
      "cell_type": "code",
      "source": [
        "cat_features_train=X_train[categorical_features].replace({0: \"False\", 1: \"True\"})"
      ],
      "metadata": {
        "id": "vIoIfE9KUacQ"
      },
      "execution_count": null,
      "outputs": []
    },
    {
      "cell_type": "code",
      "source": [
        "cat_features_test=X_test[categorical_features].replace({0: \"False\", 1: \"True\"})"
      ],
      "metadata": {
        "id": "dLNEJlJDXQVy"
      },
      "execution_count": null,
      "outputs": []
    },
    {
      "cell_type": "code",
      "source": [
        "cat_features_train.head()"
      ],
      "metadata": {
        "colab": {
          "base_uri": "https://localhost:8080/",
          "height": 317
        },
        "id": "NnroKyEUgFAt",
        "outputId": "953ac38d-ecda-4b19-d36c-1ac5a36505cc"
      },
      "execution_count": null,
      "outputs": [
        {
          "output_type": "execute_result",
          "data": {
            "text/plain": [
              "      weekday_0_weekend_1 contains_digit start_with_digit  \\\n",
              "62780               False           True            False   \n",
              "30778               False           True            False   \n",
              "30173                True          False            False   \n",
              "67517               False           True             True   \n",
              "42586                True          False            False   \n",
              "\n",
              "      Category_Title_Comedy Category_Title_Education  \\\n",
              "62780                 False                    False   \n",
              "30778                 False                    False   \n",
              "30173                 False                    False   \n",
              "67517                 False                    False   \n",
              "42586                 False                    False   \n",
              "\n",
              "      Category_Title_Entertainment Category_Title_Film & Animation  \\\n",
              "62780                         True                           False   \n",
              "30778                        False                           False   \n",
              "30173                         True                           False   \n",
              "67517                        False                           False   \n",
              "42586                         True                           False   \n",
              "\n",
              "      Category_Title_Gaming Category_Title_Howto & Style Category_Title_Music  \\\n",
              "62780                 False                        False                False   \n",
              "30778                 False                        False                False   \n",
              "30173                 False                        False                False   \n",
              "67517                 False                        False                 True   \n",
              "42586                 False                        False                False   \n",
              "\n",
              "       ... day_of_the_week_1 day_of_the_week_2 day_of_the_week_3  \\\n",
              "62780  ...             False             False             False   \n",
              "30778  ...             False             False             False   \n",
              "30173  ...             False             False             False   \n",
              "67517  ...             False             False             False   \n",
              "42586  ...             False             False             False   \n",
              "\n",
              "      day_of_the_week_4 day_of_the_week_5 day_of_the_week_6 quarter_2  \\\n",
              "62780              True             False             False     False   \n",
              "30778              True             False             False      True   \n",
              "30173             False             False              True     False   \n",
              "67517              True             False             False     False   \n",
              "42586             False              True             False     False   \n",
              "\n",
              "      quarter_3 quarter_4 video_definition_sd  \n",
              "62780     False      True               False  \n",
              "30778     False     False               False  \n",
              "30173     False      True               False  \n",
              "67517     False      True               False  \n",
              "42586      True     False               False  \n",
              "\n",
              "[5 rows x 27 columns]"
            ],
            "text/html": [
              "\n",
              "  <div id=\"df-76b0ae25-1c76-4831-be9d-2a7b42e93dc5\">\n",
              "    <div class=\"colab-df-container\">\n",
              "      <div>\n",
              "<style scoped>\n",
              "    .dataframe tbody tr th:only-of-type {\n",
              "        vertical-align: middle;\n",
              "    }\n",
              "\n",
              "    .dataframe tbody tr th {\n",
              "        vertical-align: top;\n",
              "    }\n",
              "\n",
              "    .dataframe thead th {\n",
              "        text-align: right;\n",
              "    }\n",
              "</style>\n",
              "<table border=\"1\" class=\"dataframe\">\n",
              "  <thead>\n",
              "    <tr style=\"text-align: right;\">\n",
              "      <th></th>\n",
              "      <th>weekday_0_weekend_1</th>\n",
              "      <th>contains_digit</th>\n",
              "      <th>start_with_digit</th>\n",
              "      <th>Category_Title_Comedy</th>\n",
              "      <th>Category_Title_Education</th>\n",
              "      <th>Category_Title_Entertainment</th>\n",
              "      <th>Category_Title_Film &amp; Animation</th>\n",
              "      <th>Category_Title_Gaming</th>\n",
              "      <th>Category_Title_Howto &amp; Style</th>\n",
              "      <th>Category_Title_Music</th>\n",
              "      <th>...</th>\n",
              "      <th>day_of_the_week_1</th>\n",
              "      <th>day_of_the_week_2</th>\n",
              "      <th>day_of_the_week_3</th>\n",
              "      <th>day_of_the_week_4</th>\n",
              "      <th>day_of_the_week_5</th>\n",
              "      <th>day_of_the_week_6</th>\n",
              "      <th>quarter_2</th>\n",
              "      <th>quarter_3</th>\n",
              "      <th>quarter_4</th>\n",
              "      <th>video_definition_sd</th>\n",
              "    </tr>\n",
              "  </thead>\n",
              "  <tbody>\n",
              "    <tr>\n",
              "      <th>62780</th>\n",
              "      <td>False</td>\n",
              "      <td>True</td>\n",
              "      <td>False</td>\n",
              "      <td>False</td>\n",
              "      <td>False</td>\n",
              "      <td>True</td>\n",
              "      <td>False</td>\n",
              "      <td>False</td>\n",
              "      <td>False</td>\n",
              "      <td>False</td>\n",
              "      <td>...</td>\n",
              "      <td>False</td>\n",
              "      <td>False</td>\n",
              "      <td>False</td>\n",
              "      <td>True</td>\n",
              "      <td>False</td>\n",
              "      <td>False</td>\n",
              "      <td>False</td>\n",
              "      <td>False</td>\n",
              "      <td>True</td>\n",
              "      <td>False</td>\n",
              "    </tr>\n",
              "    <tr>\n",
              "      <th>30778</th>\n",
              "      <td>False</td>\n",
              "      <td>True</td>\n",
              "      <td>False</td>\n",
              "      <td>False</td>\n",
              "      <td>False</td>\n",
              "      <td>False</td>\n",
              "      <td>False</td>\n",
              "      <td>False</td>\n",
              "      <td>False</td>\n",
              "      <td>False</td>\n",
              "      <td>...</td>\n",
              "      <td>False</td>\n",
              "      <td>False</td>\n",
              "      <td>False</td>\n",
              "      <td>True</td>\n",
              "      <td>False</td>\n",
              "      <td>False</td>\n",
              "      <td>True</td>\n",
              "      <td>False</td>\n",
              "      <td>False</td>\n",
              "      <td>False</td>\n",
              "    </tr>\n",
              "    <tr>\n",
              "      <th>30173</th>\n",
              "      <td>True</td>\n",
              "      <td>False</td>\n",
              "      <td>False</td>\n",
              "      <td>False</td>\n",
              "      <td>False</td>\n",
              "      <td>True</td>\n",
              "      <td>False</td>\n",
              "      <td>False</td>\n",
              "      <td>False</td>\n",
              "      <td>False</td>\n",
              "      <td>...</td>\n",
              "      <td>False</td>\n",
              "      <td>False</td>\n",
              "      <td>False</td>\n",
              "      <td>False</td>\n",
              "      <td>False</td>\n",
              "      <td>True</td>\n",
              "      <td>False</td>\n",
              "      <td>False</td>\n",
              "      <td>True</td>\n",
              "      <td>False</td>\n",
              "    </tr>\n",
              "    <tr>\n",
              "      <th>67517</th>\n",
              "      <td>False</td>\n",
              "      <td>True</td>\n",
              "      <td>True</td>\n",
              "      <td>False</td>\n",
              "      <td>False</td>\n",
              "      <td>False</td>\n",
              "      <td>False</td>\n",
              "      <td>False</td>\n",
              "      <td>False</td>\n",
              "      <td>True</td>\n",
              "      <td>...</td>\n",
              "      <td>False</td>\n",
              "      <td>False</td>\n",
              "      <td>False</td>\n",
              "      <td>True</td>\n",
              "      <td>False</td>\n",
              "      <td>False</td>\n",
              "      <td>False</td>\n",
              "      <td>False</td>\n",
              "      <td>True</td>\n",
              "      <td>False</td>\n",
              "    </tr>\n",
              "    <tr>\n",
              "      <th>42586</th>\n",
              "      <td>True</td>\n",
              "      <td>False</td>\n",
              "      <td>False</td>\n",
              "      <td>False</td>\n",
              "      <td>False</td>\n",
              "      <td>True</td>\n",
              "      <td>False</td>\n",
              "      <td>False</td>\n",
              "      <td>False</td>\n",
              "      <td>False</td>\n",
              "      <td>...</td>\n",
              "      <td>False</td>\n",
              "      <td>False</td>\n",
              "      <td>False</td>\n",
              "      <td>False</td>\n",
              "      <td>True</td>\n",
              "      <td>False</td>\n",
              "      <td>False</td>\n",
              "      <td>True</td>\n",
              "      <td>False</td>\n",
              "      <td>False</td>\n",
              "    </tr>\n",
              "  </tbody>\n",
              "</table>\n",
              "<p>5 rows × 27 columns</p>\n",
              "</div>\n",
              "      <button class=\"colab-df-convert\" onclick=\"convertToInteractive('df-76b0ae25-1c76-4831-be9d-2a7b42e93dc5')\"\n",
              "              title=\"Convert this dataframe to an interactive table.\"\n",
              "              style=\"display:none;\">\n",
              "        \n",
              "  <svg xmlns=\"http://www.w3.org/2000/svg\" height=\"24px\"viewBox=\"0 0 24 24\"\n",
              "       width=\"24px\">\n",
              "    <path d=\"M0 0h24v24H0V0z\" fill=\"none\"/>\n",
              "    <path d=\"M18.56 5.44l.94 2.06.94-2.06 2.06-.94-2.06-.94-.94-2.06-.94 2.06-2.06.94zm-11 1L8.5 8.5l.94-2.06 2.06-.94-2.06-.94L8.5 2.5l-.94 2.06-2.06.94zm10 10l.94 2.06.94-2.06 2.06-.94-2.06-.94-.94-2.06-.94 2.06-2.06.94z\"/><path d=\"M17.41 7.96l-1.37-1.37c-.4-.4-.92-.59-1.43-.59-.52 0-1.04.2-1.43.59L10.3 9.45l-7.72 7.72c-.78.78-.78 2.05 0 2.83L4 21.41c.39.39.9.59 1.41.59.51 0 1.02-.2 1.41-.59l7.78-7.78 2.81-2.81c.8-.78.8-2.07 0-2.86zM5.41 20L4 18.59l7.72-7.72 1.47 1.35L5.41 20z\"/>\n",
              "  </svg>\n",
              "      </button>\n",
              "      \n",
              "  <style>\n",
              "    .colab-df-container {\n",
              "      display:flex;\n",
              "      flex-wrap:wrap;\n",
              "      gap: 12px;\n",
              "    }\n",
              "\n",
              "    .colab-df-convert {\n",
              "      background-color: #E8F0FE;\n",
              "      border: none;\n",
              "      border-radius: 50%;\n",
              "      cursor: pointer;\n",
              "      display: none;\n",
              "      fill: #1967D2;\n",
              "      height: 32px;\n",
              "      padding: 0 0 0 0;\n",
              "      width: 32px;\n",
              "    }\n",
              "\n",
              "    .colab-df-convert:hover {\n",
              "      background-color: #E2EBFA;\n",
              "      box-shadow: 0px 1px 2px rgba(60, 64, 67, 0.3), 0px 1px 3px 1px rgba(60, 64, 67, 0.15);\n",
              "      fill: #174EA6;\n",
              "    }\n",
              "\n",
              "    [theme=dark] .colab-df-convert {\n",
              "      background-color: #3B4455;\n",
              "      fill: #D2E3FC;\n",
              "    }\n",
              "\n",
              "    [theme=dark] .colab-df-convert:hover {\n",
              "      background-color: #434B5C;\n",
              "      box-shadow: 0px 1px 3px 1px rgba(0, 0, 0, 0.15);\n",
              "      filter: drop-shadow(0px 1px 2px rgba(0, 0, 0, 0.3));\n",
              "      fill: #FFFFFF;\n",
              "    }\n",
              "  </style>\n",
              "\n",
              "      <script>\n",
              "        const buttonEl =\n",
              "          document.querySelector('#df-76b0ae25-1c76-4831-be9d-2a7b42e93dc5 button.colab-df-convert');\n",
              "        buttonEl.style.display =\n",
              "          google.colab.kernel.accessAllowed ? 'block' : 'none';\n",
              "\n",
              "        async function convertToInteractive(key) {\n",
              "          const element = document.querySelector('#df-76b0ae25-1c76-4831-be9d-2a7b42e93dc5');\n",
              "          const dataTable =\n",
              "            await google.colab.kernel.invokeFunction('convertToInteractive',\n",
              "                                                     [key], {});\n",
              "          if (!dataTable) return;\n",
              "\n",
              "          const docLinkHtml = 'Like what you see? Visit the ' +\n",
              "            '<a target=\"_blank\" href=https://colab.research.google.com/notebooks/data_table.ipynb>data table notebook</a>'\n",
              "            + ' to learn more about interactive tables.';\n",
              "          element.innerHTML = '';\n",
              "          dataTable['output_type'] = 'display_data';\n",
              "          await google.colab.output.renderOutput(dataTable, element);\n",
              "          const docLink = document.createElement('div');\n",
              "          docLink.innerHTML = docLinkHtml;\n",
              "          element.appendChild(docLink);\n",
              "        }\n",
              "      </script>\n",
              "    </div>\n",
              "  </div>\n",
              "  "
            ]
          },
          "metadata": {},
          "execution_count": 37
        }
      ]
    },
    {
      "cell_type": "code",
      "source": [
        "# MCA\n",
        "import prince\n",
        "mca = prince.MCA(\n",
        "    n_components=18,\n",
        "    n_iter=3,\n",
        "    copy=True,\n",
        "    check_input=True,\n",
        "    engine='sklearn',\n",
        "    random_state=42\n",
        ")\n",
        "mca = mca.fit(cat_features_train)\n"
      ],
      "metadata": {
        "id": "KLQd2GS7SdGI"
      },
      "execution_count": null,
      "outputs": []
    },
    {
      "cell_type": "code",
      "source": [
        "mca.eigenvalues_summary"
      ],
      "metadata": {
        "colab": {
          "base_uri": "https://localhost:8080/",
          "height": 645
        },
        "id": "11P-FE7AXJcZ",
        "outputId": "37ae304f-6b9c-4088-b19e-bb9f5efd7502"
      },
      "execution_count": null,
      "outputs": [
        {
          "output_type": "execute_result",
          "data": {
            "text/plain": [
              "          eigenvalue % of variance % of variance (cumulative)\n",
              "component                                                    \n",
              "0              0.082         8.18%                      8.18%\n",
              "1              0.053         5.27%                     13.45%\n",
              "2              0.051         5.13%                     18.58%\n",
              "3              0.048         4.80%                     23.38%\n",
              "4              0.047         4.74%                     28.11%\n",
              "5              0.046         4.59%                     32.70%\n",
              "6              0.045         4.51%                     37.21%\n",
              "7              0.044         4.44%                     41.65%\n",
              "8              0.043         4.33%                     45.98%\n",
              "9              0.043         4.28%                     50.26%\n",
              "10             0.042         4.21%                     54.47%\n",
              "11             0.041         4.11%                     58.57%\n",
              "12             0.040         3.99%                     62.57%\n",
              "13             0.038         3.83%                     66.40%\n",
              "14             0.038         3.81%                     70.21%\n",
              "15             0.038         3.80%                     74.01%\n",
              "16             0.037         3.74%                     77.75%\n",
              "17             0.037         3.70%                     81.45%"
            ],
            "text/html": [
              "\n",
              "  <div id=\"df-6d6adf15-4d3f-4505-b0e9-2e9a494ac289\">\n",
              "    <div class=\"colab-df-container\">\n",
              "      <div>\n",
              "<style scoped>\n",
              "    .dataframe tbody tr th:only-of-type {\n",
              "        vertical-align: middle;\n",
              "    }\n",
              "\n",
              "    .dataframe tbody tr th {\n",
              "        vertical-align: top;\n",
              "    }\n",
              "\n",
              "    .dataframe thead th {\n",
              "        text-align: right;\n",
              "    }\n",
              "</style>\n",
              "<table border=\"1\" class=\"dataframe\">\n",
              "  <thead>\n",
              "    <tr style=\"text-align: right;\">\n",
              "      <th></th>\n",
              "      <th>eigenvalue</th>\n",
              "      <th>% of variance</th>\n",
              "      <th>% of variance (cumulative)</th>\n",
              "    </tr>\n",
              "    <tr>\n",
              "      <th>component</th>\n",
              "      <th></th>\n",
              "      <th></th>\n",
              "      <th></th>\n",
              "    </tr>\n",
              "  </thead>\n",
              "  <tbody>\n",
              "    <tr>\n",
              "      <th>0</th>\n",
              "      <td>0.082</td>\n",
              "      <td>8.18%</td>\n",
              "      <td>8.18%</td>\n",
              "    </tr>\n",
              "    <tr>\n",
              "      <th>1</th>\n",
              "      <td>0.053</td>\n",
              "      <td>5.27%</td>\n",
              "      <td>13.45%</td>\n",
              "    </tr>\n",
              "    <tr>\n",
              "      <th>2</th>\n",
              "      <td>0.051</td>\n",
              "      <td>5.13%</td>\n",
              "      <td>18.58%</td>\n",
              "    </tr>\n",
              "    <tr>\n",
              "      <th>3</th>\n",
              "      <td>0.048</td>\n",
              "      <td>4.80%</td>\n",
              "      <td>23.38%</td>\n",
              "    </tr>\n",
              "    <tr>\n",
              "      <th>4</th>\n",
              "      <td>0.047</td>\n",
              "      <td>4.74%</td>\n",
              "      <td>28.11%</td>\n",
              "    </tr>\n",
              "    <tr>\n",
              "      <th>5</th>\n",
              "      <td>0.046</td>\n",
              "      <td>4.59%</td>\n",
              "      <td>32.70%</td>\n",
              "    </tr>\n",
              "    <tr>\n",
              "      <th>6</th>\n",
              "      <td>0.045</td>\n",
              "      <td>4.51%</td>\n",
              "      <td>37.21%</td>\n",
              "    </tr>\n",
              "    <tr>\n",
              "      <th>7</th>\n",
              "      <td>0.044</td>\n",
              "      <td>4.44%</td>\n",
              "      <td>41.65%</td>\n",
              "    </tr>\n",
              "    <tr>\n",
              "      <th>8</th>\n",
              "      <td>0.043</td>\n",
              "      <td>4.33%</td>\n",
              "      <td>45.98%</td>\n",
              "    </tr>\n",
              "    <tr>\n",
              "      <th>9</th>\n",
              "      <td>0.043</td>\n",
              "      <td>4.28%</td>\n",
              "      <td>50.26%</td>\n",
              "    </tr>\n",
              "    <tr>\n",
              "      <th>10</th>\n",
              "      <td>0.042</td>\n",
              "      <td>4.21%</td>\n",
              "      <td>54.47%</td>\n",
              "    </tr>\n",
              "    <tr>\n",
              "      <th>11</th>\n",
              "      <td>0.041</td>\n",
              "      <td>4.11%</td>\n",
              "      <td>58.57%</td>\n",
              "    </tr>\n",
              "    <tr>\n",
              "      <th>12</th>\n",
              "      <td>0.040</td>\n",
              "      <td>3.99%</td>\n",
              "      <td>62.57%</td>\n",
              "    </tr>\n",
              "    <tr>\n",
              "      <th>13</th>\n",
              "      <td>0.038</td>\n",
              "      <td>3.83%</td>\n",
              "      <td>66.40%</td>\n",
              "    </tr>\n",
              "    <tr>\n",
              "      <th>14</th>\n",
              "      <td>0.038</td>\n",
              "      <td>3.81%</td>\n",
              "      <td>70.21%</td>\n",
              "    </tr>\n",
              "    <tr>\n",
              "      <th>15</th>\n",
              "      <td>0.038</td>\n",
              "      <td>3.80%</td>\n",
              "      <td>74.01%</td>\n",
              "    </tr>\n",
              "    <tr>\n",
              "      <th>16</th>\n",
              "      <td>0.037</td>\n",
              "      <td>3.74%</td>\n",
              "      <td>77.75%</td>\n",
              "    </tr>\n",
              "    <tr>\n",
              "      <th>17</th>\n",
              "      <td>0.037</td>\n",
              "      <td>3.70%</td>\n",
              "      <td>81.45%</td>\n",
              "    </tr>\n",
              "  </tbody>\n",
              "</table>\n",
              "</div>\n",
              "      <button class=\"colab-df-convert\" onclick=\"convertToInteractive('df-6d6adf15-4d3f-4505-b0e9-2e9a494ac289')\"\n",
              "              title=\"Convert this dataframe to an interactive table.\"\n",
              "              style=\"display:none;\">\n",
              "        \n",
              "  <svg xmlns=\"http://www.w3.org/2000/svg\" height=\"24px\"viewBox=\"0 0 24 24\"\n",
              "       width=\"24px\">\n",
              "    <path d=\"M0 0h24v24H0V0z\" fill=\"none\"/>\n",
              "    <path d=\"M18.56 5.44l.94 2.06.94-2.06 2.06-.94-2.06-.94-.94-2.06-.94 2.06-2.06.94zm-11 1L8.5 8.5l.94-2.06 2.06-.94-2.06-.94L8.5 2.5l-.94 2.06-2.06.94zm10 10l.94 2.06.94-2.06 2.06-.94-2.06-.94-.94-2.06-.94 2.06-2.06.94z\"/><path d=\"M17.41 7.96l-1.37-1.37c-.4-.4-.92-.59-1.43-.59-.52 0-1.04.2-1.43.59L10.3 9.45l-7.72 7.72c-.78.78-.78 2.05 0 2.83L4 21.41c.39.39.9.59 1.41.59.51 0 1.02-.2 1.41-.59l7.78-7.78 2.81-2.81c.8-.78.8-2.07 0-2.86zM5.41 20L4 18.59l7.72-7.72 1.47 1.35L5.41 20z\"/>\n",
              "  </svg>\n",
              "      </button>\n",
              "      \n",
              "  <style>\n",
              "    .colab-df-container {\n",
              "      display:flex;\n",
              "      flex-wrap:wrap;\n",
              "      gap: 12px;\n",
              "    }\n",
              "\n",
              "    .colab-df-convert {\n",
              "      background-color: #E8F0FE;\n",
              "      border: none;\n",
              "      border-radius: 50%;\n",
              "      cursor: pointer;\n",
              "      display: none;\n",
              "      fill: #1967D2;\n",
              "      height: 32px;\n",
              "      padding: 0 0 0 0;\n",
              "      width: 32px;\n",
              "    }\n",
              "\n",
              "    .colab-df-convert:hover {\n",
              "      background-color: #E2EBFA;\n",
              "      box-shadow: 0px 1px 2px rgba(60, 64, 67, 0.3), 0px 1px 3px 1px rgba(60, 64, 67, 0.15);\n",
              "      fill: #174EA6;\n",
              "    }\n",
              "\n",
              "    [theme=dark] .colab-df-convert {\n",
              "      background-color: #3B4455;\n",
              "      fill: #D2E3FC;\n",
              "    }\n",
              "\n",
              "    [theme=dark] .colab-df-convert:hover {\n",
              "      background-color: #434B5C;\n",
              "      box-shadow: 0px 1px 3px 1px rgba(0, 0, 0, 0.15);\n",
              "      filter: drop-shadow(0px 1px 2px rgba(0, 0, 0, 0.3));\n",
              "      fill: #FFFFFF;\n",
              "    }\n",
              "  </style>\n",
              "\n",
              "      <script>\n",
              "        const buttonEl =\n",
              "          document.querySelector('#df-6d6adf15-4d3f-4505-b0e9-2e9a494ac289 button.colab-df-convert');\n",
              "        buttonEl.style.display =\n",
              "          google.colab.kernel.accessAllowed ? 'block' : 'none';\n",
              "\n",
              "        async function convertToInteractive(key) {\n",
              "          const element = document.querySelector('#df-6d6adf15-4d3f-4505-b0e9-2e9a494ac289');\n",
              "          const dataTable =\n",
              "            await google.colab.kernel.invokeFunction('convertToInteractive',\n",
              "                                                     [key], {});\n",
              "          if (!dataTable) return;\n",
              "\n",
              "          const docLinkHtml = 'Like what you see? Visit the ' +\n",
              "            '<a target=\"_blank\" href=https://colab.research.google.com/notebooks/data_table.ipynb>data table notebook</a>'\n",
              "            + ' to learn more about interactive tables.';\n",
              "          element.innerHTML = '';\n",
              "          dataTable['output_type'] = 'display_data';\n",
              "          await google.colab.output.renderOutput(dataTable, element);\n",
              "          const docLink = document.createElement('div');\n",
              "          docLink.innerHTML = docLinkHtml;\n",
              "          element.appendChild(docLink);\n",
              "        }\n",
              "      </script>\n",
              "    </div>\n",
              "  </div>\n",
              "  "
            ]
          },
          "metadata": {},
          "execution_count": 39
        }
      ]
    },
    {
      "cell_type": "code",
      "source": [
        "train_categorical=mca.row_coordinates(cat_features_train)\n",
        "test_categorical=mca.row_coordinates(cat_features_test)"
      ],
      "metadata": {
        "id": "4isxjihWXdli"
      },
      "execution_count": null,
      "outputs": []
    },
    {
      "cell_type": "code",
      "source": [
        "X_train=pd.concat([train_num.iloc[:,0:2],train_categorical],axis=1)\n",
        "\n",
        "X_test=pd.concat([tes_num.iloc[:,0:2],test_categorical],axis=1)"
      ],
      "metadata": {
        "id": "fmekhOh8ioyG"
      },
      "execution_count": null,
      "outputs": []
    },
    {
      "cell_type": "code",
      "source": [
        "X_train.shape"
      ],
      "metadata": {
        "colab": {
          "base_uri": "https://localhost:8080/"
        },
        "id": "UiNA_92QK4iO",
        "outputId": "272c87c2-239b-4d0f-b4fe-2352bc5e0b30"
      },
      "execution_count": null,
      "outputs": [
        {
          "output_type": "execute_result",
          "data": {
            "text/plain": [
              "(50080, 20)"
            ]
          },
          "metadata": {},
          "execution_count": 42
        }
      ]
    },
    {
      "cell_type": "code",
      "source": [
        "y_train.describe()"
      ],
      "metadata": {
        "colab": {
          "base_uri": "https://localhost:8080/"
        },
        "id": "zJWIcG3g2CCx",
        "outputId": "89b78af2-4023-489a-cc43-fd3dac28405c"
      },
      "execution_count": null,
      "outputs": [
        {
          "output_type": "execute_result",
          "data": {
            "text/plain": [
              "count   50080.00\n",
              "mean       13.70\n",
              "std         1.21\n",
              "min         9.67\n",
              "25%        12.86\n",
              "50%        13.64\n",
              "75%        14.48\n",
              "max        19.14\n",
              "Name: view_count, dtype: float64"
            ]
          },
          "metadata": {},
          "execution_count": 43
        }
      ]
    },
    {
      "cell_type": "code",
      "source": [
        "y_test.describe()"
      ],
      "metadata": {
        "colab": {
          "base_uri": "https://localhost:8080/"
        },
        "id": "tTDEZoKb2EO2",
        "outputId": "09a85fb8-3701-4351-d816-1a773390dead"
      },
      "execution_count": null,
      "outputs": [
        {
          "output_type": "execute_result",
          "data": {
            "text/plain": [
              "count   21464.00\n",
              "mean       13.70\n",
              "std         1.21\n",
              "min         9.80\n",
              "25%        12.86\n",
              "50%        13.63\n",
              "75%        14.48\n",
              "max        19.09\n",
              "Name: view_count, dtype: float64"
            ]
          },
          "metadata": {},
          "execution_count": 44
        }
      ]
    },
    {
      "cell_type": "markdown",
      "source": [
        "##### Traaining"
      ],
      "metadata": {
        "id": "0089gMF1ZyVT"
      }
    },
    {
      "cell_type": "code",
      "source": [
        "from sklearn.metrics import mean_squared_error,accuracy_score,mean_absolute_error,mean_squared_log_error\n",
        "import math\n",
        "from sklearn.metrics import r2_score"
      ],
      "metadata": {
        "id": "feft_pTlhVTZ"
      },
      "execution_count": null,
      "outputs": []
    },
    {
      "cell_type": "markdown",
      "source": [
        "###### Decision tree"
      ],
      "metadata": {
        "id": "i__jjUhAaCp0"
      }
    },
    {
      "cell_type": "code",
      "source": [
        "from sklearn.tree import DecisionTreeRegressor \n",
        "  \n",
        "# create a regressor object\n",
        "regressor = DecisionTreeRegressor(random_state = 0) \n",
        "  \n",
        "# fit the regressor with X and Y data\n",
        "regressor.fit(X_train, y_train)"
      ],
      "metadata": {
        "id": "W-6XzhgovIoY",
        "colab": {
          "base_uri": "https://localhost:8080/",
          "height": 74
        },
        "outputId": "fe17f0bc-76d1-436f-aee5-e8bb0535da2d"
      },
      "execution_count": null,
      "outputs": [
        {
          "output_type": "execute_result",
          "data": {
            "text/plain": [
              "DecisionTreeRegressor(random_state=0)"
            ],
            "text/html": [
              "<style>#sk-container-id-1 {color: black;background-color: white;}#sk-container-id-1 pre{padding: 0;}#sk-container-id-1 div.sk-toggleable {background-color: white;}#sk-container-id-1 label.sk-toggleable__label {cursor: pointer;display: block;width: 100%;margin-bottom: 0;padding: 0.3em;box-sizing: border-box;text-align: center;}#sk-container-id-1 label.sk-toggleable__label-arrow:before {content: \"▸\";float: left;margin-right: 0.25em;color: #696969;}#sk-container-id-1 label.sk-toggleable__label-arrow:hover:before {color: black;}#sk-container-id-1 div.sk-estimator:hover label.sk-toggleable__label-arrow:before {color: black;}#sk-container-id-1 div.sk-toggleable__content {max-height: 0;max-width: 0;overflow: hidden;text-align: left;background-color: #f0f8ff;}#sk-container-id-1 div.sk-toggleable__content pre {margin: 0.2em;color: black;border-radius: 0.25em;background-color: #f0f8ff;}#sk-container-id-1 input.sk-toggleable__control:checked~div.sk-toggleable__content {max-height: 200px;max-width: 100%;overflow: auto;}#sk-container-id-1 input.sk-toggleable__control:checked~label.sk-toggleable__label-arrow:before {content: \"▾\";}#sk-container-id-1 div.sk-estimator input.sk-toggleable__control:checked~label.sk-toggleable__label {background-color: #d4ebff;}#sk-container-id-1 div.sk-label input.sk-toggleable__control:checked~label.sk-toggleable__label {background-color: #d4ebff;}#sk-container-id-1 input.sk-hidden--visually {border: 0;clip: rect(1px 1px 1px 1px);clip: rect(1px, 1px, 1px, 1px);height: 1px;margin: -1px;overflow: hidden;padding: 0;position: absolute;width: 1px;}#sk-container-id-1 div.sk-estimator {font-family: monospace;background-color: #f0f8ff;border: 1px dotted black;border-radius: 0.25em;box-sizing: border-box;margin-bottom: 0.5em;}#sk-container-id-1 div.sk-estimator:hover {background-color: #d4ebff;}#sk-container-id-1 div.sk-parallel-item::after {content: \"\";width: 100%;border-bottom: 1px solid gray;flex-grow: 1;}#sk-container-id-1 div.sk-label:hover label.sk-toggleable__label {background-color: #d4ebff;}#sk-container-id-1 div.sk-serial::before {content: \"\";position: absolute;border-left: 1px solid gray;box-sizing: border-box;top: 0;bottom: 0;left: 50%;z-index: 0;}#sk-container-id-1 div.sk-serial {display: flex;flex-direction: column;align-items: center;background-color: white;padding-right: 0.2em;padding-left: 0.2em;position: relative;}#sk-container-id-1 div.sk-item {position: relative;z-index: 1;}#sk-container-id-1 div.sk-parallel {display: flex;align-items: stretch;justify-content: center;background-color: white;position: relative;}#sk-container-id-1 div.sk-item::before, #sk-container-id-1 div.sk-parallel-item::before {content: \"\";position: absolute;border-left: 1px solid gray;box-sizing: border-box;top: 0;bottom: 0;left: 50%;z-index: -1;}#sk-container-id-1 div.sk-parallel-item {display: flex;flex-direction: column;z-index: 1;position: relative;background-color: white;}#sk-container-id-1 div.sk-parallel-item:first-child::after {align-self: flex-end;width: 50%;}#sk-container-id-1 div.sk-parallel-item:last-child::after {align-self: flex-start;width: 50%;}#sk-container-id-1 div.sk-parallel-item:only-child::after {width: 0;}#sk-container-id-1 div.sk-dashed-wrapped {border: 1px dashed gray;margin: 0 0.4em 0.5em 0.4em;box-sizing: border-box;padding-bottom: 0.4em;background-color: white;}#sk-container-id-1 div.sk-label label {font-family: monospace;font-weight: bold;display: inline-block;line-height: 1.2em;}#sk-container-id-1 div.sk-label-container {text-align: center;}#sk-container-id-1 div.sk-container {/* jupyter's `normalize.less` sets `[hidden] { display: none; }` but bootstrap.min.css set `[hidden] { display: none !important; }` so we also need the `!important` here to be able to override the default hidden behavior on the sphinx rendered scikit-learn.org. See: https://github.com/scikit-learn/scikit-learn/issues/21755 */display: inline-block !important;position: relative;}#sk-container-id-1 div.sk-text-repr-fallback {display: none;}</style><div id=\"sk-container-id-1\" class=\"sk-top-container\"><div class=\"sk-text-repr-fallback\"><pre>DecisionTreeRegressor(random_state=0)</pre><b>In a Jupyter environment, please rerun this cell to show the HTML representation or trust the notebook. <br />On GitHub, the HTML representation is unable to render, please try loading this page with nbviewer.org.</b></div><div class=\"sk-container\" hidden><div class=\"sk-item\"><div class=\"sk-estimator sk-toggleable\"><input class=\"sk-toggleable__control sk-hidden--visually\" id=\"sk-estimator-id-1\" type=\"checkbox\" checked><label for=\"sk-estimator-id-1\" class=\"sk-toggleable__label sk-toggleable__label-arrow\">DecisionTreeRegressor</label><div class=\"sk-toggleable__content\"><pre>DecisionTreeRegressor(random_state=0)</pre></div></div></div></div></div>"
            ]
          },
          "metadata": {},
          "execution_count": 10
        }
      ]
    },
    {
      "cell_type": "code",
      "source": [
        "prediction=regressor.predict(X_train)"
      ],
      "metadata": {
        "id": "S9PgfASxGOrh"
      },
      "execution_count": null,
      "outputs": []
    },
    {
      "cell_type": "code",
      "source": [
        "\n",
        "math.sqrt(mean_squared_error(y_train,prediction))"
      ],
      "metadata": {
        "colab": {
          "base_uri": "https://localhost:8080/"
        },
        "id": "SpB4B31SGYQl",
        "outputId": "7c2851ce-f788-4b09-8636-e404d64b9e54"
      },
      "execution_count": null,
      "outputs": [
        {
          "output_type": "execute_result",
          "data": {
            "text/plain": [
              "0.04853812061689515"
            ]
          },
          "metadata": {},
          "execution_count": 17
        }
      ]
    },
    {
      "cell_type": "code",
      "source": [
        "from sklearn import tree\n",
        "tree.plot_tree(regressor)"
      ],
      "metadata": {
        "id": "F2KZy8FUKM80"
      },
      "execution_count": null,
      "outputs": []
    },
    {
      "cell_type": "code",
      "source": [
        "\n",
        "r2_score(y_train, prediction)"
      ],
      "metadata": {
        "colab": {
          "base_uri": "https://localhost:8080/"
        },
        "id": "s1diGkuNNSH-",
        "outputId": "ac7840c4-c40c-454a-c179-81a4a75f85ff"
      },
      "execution_count": null,
      "outputs": [
        {
          "output_type": "execute_result",
          "data": {
            "text/plain": [
              "0.9984049656585825"
            ]
          },
          "metadata": {},
          "execution_count": 19
        }
      ]
    },
    {
      "cell_type": "markdown",
      "source": [
        "1) 17graphs - we decide which vars to log\n",
        "2) PCA on the vars - woth and woithout log trans\n",
        "3) fit modal.- linear regfression"
      ],
      "metadata": {
        "id": "djnxxhfmpBlz"
      }
    },
    {
      "cell_type": "code",
      "source": [
        "Adj_r2 = 1 - (1-r2_score(y_train, prediction)) * (len(y_train)-1)/(len(y_train)-X_train.shape[1]-1)\n",
        "Adj_r2"
      ],
      "metadata": {
        "colab": {
          "base_uri": "https://localhost:8080/"
        },
        "id": "f3Uushy-PngL",
        "outputId": "053b4e49-354b-4b86-fdda-6184a49c85e6"
      },
      "execution_count": null,
      "outputs": [
        {
          "output_type": "execute_result",
          "data": {
            "text/plain": [
              "0.9984045057138153"
            ]
          },
          "metadata": {},
          "execution_count": 20
        }
      ]
    },
    {
      "cell_type": "code",
      "source": [
        "whjk/Z"
      ],
      "metadata": {
        "id": "pXSIXbcwjiM1"
      },
      "execution_count": null,
      "outputs": []
    },
    {
      "cell_type": "markdown",
      "source": [
        "###### Linear regression"
      ],
      "metadata": {
        "id": "CBF-fOV4Z9uk"
      }
    },
    {
      "cell_type": "code",
      "source": [
        "import statsmodels.api as sms"
      ],
      "metadata": {
        "id": "jGu-yQvfaBXm"
      },
      "execution_count": null,
      "outputs": []
    },
    {
      "cell_type": "code",
      "source": [
        "X_train.drop(['12','15','16','18'],axis=1)"
      ],
      "metadata": {
        "id": "PN_yv9RNFOLA"
      },
      "execution_count": null,
      "outputs": []
    },
    {
      "cell_type": "code",
      "source": [
        "model = sms.OLS(y_train,sms.add_constant(X_train.drop(['12','15','16','18'],axis=1)))\n",
        "results = model.fit()"
      ],
      "metadata": {
        "id": "qdc1QuyhaR0B"
      },
      "execution_count": null,
      "outputs": []
    },
    {
      "cell_type": "code",
      "source": [
        "print(results.summary())"
      ],
      "metadata": {
        "colab": {
          "base_uri": "https://localhost:8080/"
        },
        "id": "Q4UyQq8Bb5pm",
        "outputId": "06953e81-3925-4985-fd0e-13243af30041"
      },
      "execution_count": null,
      "outputs": [
        {
          "output_type": "stream",
          "name": "stdout",
          "text": [
            "                            OLS Regression Results                            \n",
            "==============================================================================\n",
            "Dep. Variable:             view_count   R-squared:                       0.356\n",
            "Model:                            OLS   Adj. R-squared:                  0.356\n",
            "Method:                 Least Squares   F-statistic:                     1537.\n",
            "Date:                Fri, 07 Apr 2023   Prob (F-statistic):               0.00\n",
            "Time:                        09:38:58   Log-Likelihood:                -69478.\n",
            "No. Observations:               50080   AIC:                         1.390e+05\n",
            "Df Residuals:                   50061   BIC:                         1.392e+05\n",
            "Df Model:                          18                                         \n",
            "Covariance Type:            nonrobust                                         \n",
            "==============================================================================\n",
            "                 coef    std err          t      P>|t|      [0.025      0.975]\n",
            "------------------------------------------------------------------------------\n",
            "const         13.7008      0.004   3163.873      0.000      13.692      13.709\n",
            "pca0         3.77e-08   3.79e-10     99.605      0.000     3.7e-08    3.84e-08\n",
            "pca1        2.138e-06   1.77e-08    120.791      0.000     2.1e-06    2.17e-06\n",
            "0             -0.0421      0.008     -5.276      0.000      -0.058      -0.026\n",
            "1             -0.1572      0.010    -15.740      0.000      -0.177      -0.138\n",
            "2             -0.1753      0.011    -16.486      0.000      -0.196      -0.154\n",
            "3              0.0525      0.011      4.853      0.000       0.031       0.074\n",
            "4              0.0340      0.011      3.076      0.002       0.012       0.056\n",
            "5             -0.1449      0.011    -13.043      0.000      -0.167      -0.123\n",
            "6             -0.0234      0.011     -2.074      0.038      -0.046      -0.001\n",
            "7             -0.1013      0.011     -8.971      0.000      -0.123      -0.079\n",
            "8             -0.0341      0.011     -3.008      0.003      -0.056      -0.012\n",
            "9              0.0576      0.011      5.064      0.000       0.035       0.080\n",
            "10             0.0464      0.011      4.069      0.000       0.024       0.069\n",
            "11            -0.0602      0.011     -5.265      0.000      -0.083      -0.038\n",
            "13             0.0642      0.011      5.592      0.000       0.042       0.087\n",
            "14            -0.0908      0.011     -7.903      0.000      -0.113      -0.068\n",
            "17            -0.0591      0.012     -5.105      0.000      -0.082      -0.036\n",
            "19             0.1411      0.012     12.109      0.000       0.118       0.164\n",
            "==============================================================================\n",
            "Omnibus:                    15244.442   Durbin-Watson:                   2.006\n",
            "Prob(Omnibus):                  0.000   Jarque-Bera (JB):           344500.413\n",
            "Skew:                          -0.936   Prob(JB):                         0.00\n",
            "Kurtosis:                      15.712   Cond. No.                     3.11e+07\n",
            "==============================================================================\n",
            "\n",
            "Notes:\n",
            "[1] Standard Errors assume that the covariance matrix of the errors is correctly specified.\n",
            "[2] The condition number is large, 3.11e+07. This might indicate that there are\n",
            "strong multicollinearity or other numerical problems.\n"
          ]
        }
      ]
    },
    {
      "cell_type": "code",
      "source": [],
      "metadata": {
        "id": "GrXmO3mmdmBE"
      },
      "execution_count": null,
      "outputs": []
    },
    {
      "cell_type": "markdown",
      "source": [
        "#### SVM"
      ],
      "metadata": {
        "id": "GSHQ7mxxdmd_"
      }
    },
    {
      "cell_type": "code",
      "source": [
        "X_train.columns=[str(i) for i in X_train.columns]\n",
        "X_test.columns=[str(i) for i in X_test.columns]"
      ],
      "metadata": {
        "id": "ggMwMs8f6JdM"
      },
      "execution_count": null,
      "outputs": []
    },
    {
      "cell_type": "code",
      "source": [
        "from sklearn.svm import SVR\n",
        "regressor = SVR(kernel = 'rbf')\n",
        "regressor.fit(X_train, y_train)"
      ],
      "metadata": {
        "colab": {
          "base_uri": "https://localhost:8080/",
          "height": 74
        },
        "id": "Qi0pOcuwdoEo",
        "outputId": "8b631328-e148-4d5a-8278-d329f4642a58"
      },
      "execution_count": null,
      "outputs": [
        {
          "output_type": "execute_result",
          "data": {
            "text/plain": [
              "SVR()"
            ],
            "text/html": [
              "<style>#sk-container-id-3 {color: black;background-color: white;}#sk-container-id-3 pre{padding: 0;}#sk-container-id-3 div.sk-toggleable {background-color: white;}#sk-container-id-3 label.sk-toggleable__label {cursor: pointer;display: block;width: 100%;margin-bottom: 0;padding: 0.3em;box-sizing: border-box;text-align: center;}#sk-container-id-3 label.sk-toggleable__label-arrow:before {content: \"▸\";float: left;margin-right: 0.25em;color: #696969;}#sk-container-id-3 label.sk-toggleable__label-arrow:hover:before {color: black;}#sk-container-id-3 div.sk-estimator:hover label.sk-toggleable__label-arrow:before {color: black;}#sk-container-id-3 div.sk-toggleable__content {max-height: 0;max-width: 0;overflow: hidden;text-align: left;background-color: #f0f8ff;}#sk-container-id-3 div.sk-toggleable__content pre {margin: 0.2em;color: black;border-radius: 0.25em;background-color: #f0f8ff;}#sk-container-id-3 input.sk-toggleable__control:checked~div.sk-toggleable__content {max-height: 200px;max-width: 100%;overflow: auto;}#sk-container-id-3 input.sk-toggleable__control:checked~label.sk-toggleable__label-arrow:before {content: \"▾\";}#sk-container-id-3 div.sk-estimator input.sk-toggleable__control:checked~label.sk-toggleable__label {background-color: #d4ebff;}#sk-container-id-3 div.sk-label input.sk-toggleable__control:checked~label.sk-toggleable__label {background-color: #d4ebff;}#sk-container-id-3 input.sk-hidden--visually {border: 0;clip: rect(1px 1px 1px 1px);clip: rect(1px, 1px, 1px, 1px);height: 1px;margin: -1px;overflow: hidden;padding: 0;position: absolute;width: 1px;}#sk-container-id-3 div.sk-estimator {font-family: monospace;background-color: #f0f8ff;border: 1px dotted black;border-radius: 0.25em;box-sizing: border-box;margin-bottom: 0.5em;}#sk-container-id-3 div.sk-estimator:hover {background-color: #d4ebff;}#sk-container-id-3 div.sk-parallel-item::after {content: \"\";width: 100%;border-bottom: 1px solid gray;flex-grow: 1;}#sk-container-id-3 div.sk-label:hover label.sk-toggleable__label {background-color: #d4ebff;}#sk-container-id-3 div.sk-serial::before {content: \"\";position: absolute;border-left: 1px solid gray;box-sizing: border-box;top: 0;bottom: 0;left: 50%;z-index: 0;}#sk-container-id-3 div.sk-serial {display: flex;flex-direction: column;align-items: center;background-color: white;padding-right: 0.2em;padding-left: 0.2em;position: relative;}#sk-container-id-3 div.sk-item {position: relative;z-index: 1;}#sk-container-id-3 div.sk-parallel {display: flex;align-items: stretch;justify-content: center;background-color: white;position: relative;}#sk-container-id-3 div.sk-item::before, #sk-container-id-3 div.sk-parallel-item::before {content: \"\";position: absolute;border-left: 1px solid gray;box-sizing: border-box;top: 0;bottom: 0;left: 50%;z-index: -1;}#sk-container-id-3 div.sk-parallel-item {display: flex;flex-direction: column;z-index: 1;position: relative;background-color: white;}#sk-container-id-3 div.sk-parallel-item:first-child::after {align-self: flex-end;width: 50%;}#sk-container-id-3 div.sk-parallel-item:last-child::after {align-self: flex-start;width: 50%;}#sk-container-id-3 div.sk-parallel-item:only-child::after {width: 0;}#sk-container-id-3 div.sk-dashed-wrapped {border: 1px dashed gray;margin: 0 0.4em 0.5em 0.4em;box-sizing: border-box;padding-bottom: 0.4em;background-color: white;}#sk-container-id-3 div.sk-label label {font-family: monospace;font-weight: bold;display: inline-block;line-height: 1.2em;}#sk-container-id-3 div.sk-label-container {text-align: center;}#sk-container-id-3 div.sk-container {/* jupyter's `normalize.less` sets `[hidden] { display: none; }` but bootstrap.min.css set `[hidden] { display: none !important; }` so we also need the `!important` here to be able to override the default hidden behavior on the sphinx rendered scikit-learn.org. See: https://github.com/scikit-learn/scikit-learn/issues/21755 */display: inline-block !important;position: relative;}#sk-container-id-3 div.sk-text-repr-fallback {display: none;}</style><div id=\"sk-container-id-3\" class=\"sk-top-container\"><div class=\"sk-text-repr-fallback\"><pre>SVR()</pre><b>In a Jupyter environment, please rerun this cell to show the HTML representation or trust the notebook. <br />On GitHub, the HTML representation is unable to render, please try loading this page with nbviewer.org.</b></div><div class=\"sk-container\" hidden><div class=\"sk-item\"><div class=\"sk-estimator sk-toggleable\"><input class=\"sk-toggleable__control sk-hidden--visually\" id=\"sk-estimator-id-3\" type=\"checkbox\" checked><label for=\"sk-estimator-id-3\" class=\"sk-toggleable__label sk-toggleable__label-arrow\">SVR</label><div class=\"sk-toggleable__content\"><pre>SVR()</pre></div></div></div></div></div>"
            ]
          },
          "metadata": {},
          "execution_count": 55
        }
      ]
    },
    {
      "cell_type": "code",
      "source": [
        "prediction=regressor.predict(X_test)"
      ],
      "metadata": {
        "id": "9RCLL-cufhSl"
      },
      "execution_count": null,
      "outputs": []
    },
    {
      "cell_type": "code",
      "source": [
        "### evaluating on log\n",
        "print(\"test MSE {} \".format(mean_squared_error(y_test,prediction)))\n",
        "print(\"test RMSE {} \".format(math.sqrt(mean_squared_error(y_test,prediction))))\n",
        "\n",
        "print(\"test MAE {} \".format((mean_absolute_error(y_test,prediction))))"
      ],
      "metadata": {
        "colab": {
          "base_uri": "https://localhost:8080/"
        },
        "id": "v0bVJxu2oGfH",
        "outputId": "f4653485-c7da-4be1-ae67-8747599fedb1"
      },
      "execution_count": null,
      "outputs": [
        {
          "output_type": "stream",
          "name": "stdout",
          "text": [
            "test MSE 0.7175798100522862 \n",
            "test RMSE 0.8471008263791779 \n",
            "test MAE 0.6098900932380653 \n"
          ]
        }
      ]
    },
    {
      "cell_type": "code",
      "source": [
        "prediction_train=regressor.predict(X_train)\n",
        "#prediction_train_real=np.exp(prediction_train)"
      ],
      "metadata": {
        "id": "_8SP0wXYrunA"
      },
      "execution_count": null,
      "outputs": []
    },
    {
      "cell_type": "code",
      "source": [
        "print(\"train MSE {} \".format(mean_squared_error(y_train,prediction_train)))\n",
        "print(\"train RMSE {} \".format(math.sqrt(mean_squared_error(y_train,prediction_train))))\n",
        "#Adj_r2_train = 1 - (1-r2_score(y_train, prediction_train)) * (len(y_train)-1)/(len(y_train)-X_train.shape[1]-1)\n",
        "#print(\"train Adjusted R squared {} \".format(Adj_r2_train))\n",
        "print(\"train MAE {} \".format((mean_absolute_error(y_train,prediction_train))))"
      ],
      "metadata": {
        "colab": {
          "base_uri": "https://localhost:8080/"
        },
        "id": "TRw27SOIqiXr",
        "outputId": "039fe6d2-fa30-4812-c1a3-4c0a2dd8b401"
      },
      "execution_count": null,
      "outputs": [
        {
          "output_type": "stream",
          "name": "stdout",
          "text": [
            "train MSE 0.6729524576942509 \n",
            "train RMSE 0.8203367952824321 \n",
            "train MAE 0.6083565537130362 \n"
          ]
        }
      ]
    },
    {
      "cell_type": "code",
      "source": [
        "k = X_train.shape[1]\n",
        "L = np.sum((y_train - prediction_train)**2)\n",
        "AIC = 2*k - 2*np.log(L)\n",
        "print(AIC)"
      ],
      "metadata": {
        "colab": {
          "base_uri": "https://localhost:8080/"
        },
        "id": "6VaSykwERvBk",
        "outputId": "3f1e2543-1574-47d4-b9d2-a9b6a5591122"
      },
      "execution_count": null,
      "outputs": [
        {
          "output_type": "stream",
          "name": "stdout",
          "text": [
            "19.149407176829914\n"
          ]
        }
      ]
    },
    {
      "cell_type": "code",
      "source": [
        "k"
      ],
      "metadata": {
        "colab": {
          "base_uri": "https://localhost:8080/"
        },
        "id": "PuTCHqXrVb23",
        "outputId": "ebe81f80-c51d-46b1-b922-2d02657a066b"
      },
      "execution_count": null,
      "outputs": [
        {
          "output_type": "execute_result",
          "data": {
            "text/plain": [
              "41"
            ]
          },
          "metadata": {},
          "execution_count": 49
        }
      ]
    },
    {
      "cell_type": "markdown",
      "source": [
        "#### XG boost\n"
      ],
      "metadata": {
        "id": "66OkIq8kYcda"
      }
    },
    {
      "cell_type": "code",
      "source": [
        "import xgboost\n",
        "from sklearn.model_selection import GridSearchCV\n",
        "regressor=xgboost.XGBRegressor()\n",
        "param_grid = {\"max_depth\":    [4,6,8],\n",
        "              \"n_estimators\": [200,400,600],\n",
        "              \"learning_rate\": [0.01,0.02],#\"tree_method\":['gpu_hist'],\"gpu_id\":[0],\n",
        "              \"reg_lambda\":[0.1,0.01]}\n",
        "\n",
        "# try out every combination of the above values\n",
        "search = GridSearchCV(regressor, param_grid,return_train_score = True, cv=5,scoring='neg_mean_absolute_error',verbose=2).fit(X_train, y_train)"
      ],
      "metadata": {
        "id": "E1iAUwq0wCv9",
        "colab": {
          "base_uri": "https://localhost:8080/"
        },
        "outputId": "5100e682-f5cb-4abe-e02b-037e7b0c6fd1"
      },
      "execution_count": null,
      "outputs": [
        {
          "output_type": "stream",
          "name": "stdout",
          "text": [
            "Fitting 5 folds for each of 36 candidates, totalling 180 fits\n",
            "[CV] END learning_rate=0.01, max_depth=4, n_estimators=200, reg_lambda=0.1; total time=   7.3s\n",
            "[CV] END learning_rate=0.01, max_depth=4, n_estimators=200, reg_lambda=0.1; total time=   8.4s\n",
            "[CV] END learning_rate=0.01, max_depth=4, n_estimators=200, reg_lambda=0.1; total time=   6.6s\n",
            "[CV] END learning_rate=0.01, max_depth=4, n_estimators=200, reg_lambda=0.1; total time=   8.5s\n",
            "[CV] END learning_rate=0.01, max_depth=4, n_estimators=200, reg_lambda=0.1; total time=   8.5s\n",
            "[CV] END learning_rate=0.01, max_depth=4, n_estimators=200, reg_lambda=0.01; total time=   6.5s\n",
            "[CV] END learning_rate=0.01, max_depth=4, n_estimators=200, reg_lambda=0.01; total time=   8.4s\n",
            "[CV] END learning_rate=0.01, max_depth=4, n_estimators=200, reg_lambda=0.01; total time=   8.5s\n",
            "[CV] END learning_rate=0.01, max_depth=4, n_estimators=200, reg_lambda=0.01; total time=   6.6s\n",
            "[CV] END learning_rate=0.01, max_depth=4, n_estimators=200, reg_lambda=0.01; total time=   8.4s\n",
            "[CV] END learning_rate=0.01, max_depth=4, n_estimators=400, reg_lambda=0.1; total time=  15.0s\n",
            "[CV] END learning_rate=0.01, max_depth=4, n_estimators=400, reg_lambda=0.1; total time=  14.9s\n",
            "[CV] END learning_rate=0.01, max_depth=4, n_estimators=400, reg_lambda=0.1; total time=  16.8s\n",
            "[CV] END learning_rate=0.01, max_depth=4, n_estimators=400, reg_lambda=0.1; total time=  14.8s\n",
            "[CV] END learning_rate=0.01, max_depth=4, n_estimators=400, reg_lambda=0.1; total time=  15.0s\n",
            "[CV] END learning_rate=0.01, max_depth=4, n_estimators=400, reg_lambda=0.01; total time=  14.8s\n",
            "[CV] END learning_rate=0.01, max_depth=4, n_estimators=400, reg_lambda=0.01; total time=  16.8s\n",
            "[CV] END learning_rate=0.01, max_depth=4, n_estimators=400, reg_lambda=0.01; total time=  14.9s\n",
            "[CV] END learning_rate=0.01, max_depth=4, n_estimators=400, reg_lambda=0.01; total time=  15.0s\n",
            "[CV] END learning_rate=0.01, max_depth=4, n_estimators=400, reg_lambda=0.01; total time=  14.9s\n",
            "[CV] END learning_rate=0.01, max_depth=4, n_estimators=600, reg_lambda=0.1; total time=  22.9s\n",
            "[CV] END learning_rate=0.01, max_depth=4, n_estimators=600, reg_lambda=0.1; total time=  23.0s\n",
            "[CV] END learning_rate=0.01, max_depth=4, n_estimators=600, reg_lambda=0.1; total time=  22.9s\n",
            "[CV] END learning_rate=0.01, max_depth=4, n_estimators=600, reg_lambda=0.1; total time=  22.9s\n",
            "[CV] END learning_rate=0.01, max_depth=4, n_estimators=600, reg_lambda=0.1; total time=  23.0s\n",
            "[CV] END learning_rate=0.01, max_depth=4, n_estimators=600, reg_lambda=0.01; total time=  23.0s\n",
            "[CV] END learning_rate=0.01, max_depth=4, n_estimators=600, reg_lambda=0.01; total time=  21.1s\n",
            "[CV] END learning_rate=0.01, max_depth=4, n_estimators=600, reg_lambda=0.01; total time=  23.0s\n",
            "[CV] END learning_rate=0.01, max_depth=4, n_estimators=600, reg_lambda=0.01; total time=  22.9s\n",
            "[CV] END learning_rate=0.01, max_depth=4, n_estimators=600, reg_lambda=0.01; total time=  23.0s\n",
            "[CV] END learning_rate=0.01, max_depth=6, n_estimators=200, reg_lambda=0.1; total time=  13.2s\n",
            "[CV] END learning_rate=0.01, max_depth=6, n_estimators=200, reg_lambda=0.1; total time=  13.3s\n",
            "[CV] END learning_rate=0.01, max_depth=6, n_estimators=200, reg_lambda=0.1; total time=  13.3s\n",
            "[CV] END learning_rate=0.01, max_depth=6, n_estimators=200, reg_lambda=0.1; total time=  13.3s\n",
            "[CV] END learning_rate=0.01, max_depth=6, n_estimators=200, reg_lambda=0.1; total time=  13.7s\n",
            "[CV] END learning_rate=0.01, max_depth=6, n_estimators=200, reg_lambda=0.01; total time=  14.4s\n",
            "[CV] END learning_rate=0.01, max_depth=6, n_estimators=200, reg_lambda=0.01; total time=  13.4s\n",
            "[CV] END learning_rate=0.01, max_depth=6, n_estimators=200, reg_lambda=0.01; total time=  13.4s\n",
            "[CV] END learning_rate=0.01, max_depth=6, n_estimators=200, reg_lambda=0.01; total time=  13.4s\n",
            "[CV] END learning_rate=0.01, max_depth=6, n_estimators=200, reg_lambda=0.01; total time=  13.3s\n",
            "[CV] END learning_rate=0.01, max_depth=6, n_estimators=400, reg_lambda=0.1; total time=  26.3s\n",
            "[CV] END learning_rate=0.01, max_depth=6, n_estimators=400, reg_lambda=0.1; total time=  26.3s\n",
            "[CV] END learning_rate=0.01, max_depth=6, n_estimators=400, reg_lambda=0.1; total time=  26.7s\n",
            "[CV] END learning_rate=0.01, max_depth=6, n_estimators=400, reg_lambda=0.1; total time=  27.1s\n",
            "[CV] END learning_rate=0.01, max_depth=6, n_estimators=400, reg_lambda=0.1; total time=  26.2s\n",
            "[CV] END learning_rate=0.01, max_depth=6, n_estimators=400, reg_lambda=0.01; total time=  26.4s\n",
            "[CV] END learning_rate=0.01, max_depth=6, n_estimators=400, reg_lambda=0.01; total time=  26.3s\n",
            "[CV] END learning_rate=0.01, max_depth=6, n_estimators=400, reg_lambda=0.01; total time=  26.5s\n",
            "[CV] END learning_rate=0.01, max_depth=6, n_estimators=400, reg_lambda=0.01; total time=  28.4s\n",
            "[CV] END learning_rate=0.01, max_depth=6, n_estimators=400, reg_lambda=0.01; total time=  26.5s\n",
            "[CV] END learning_rate=0.01, max_depth=6, n_estimators=600, reg_lambda=0.1; total time=  38.1s\n",
            "[CV] END learning_rate=0.01, max_depth=6, n_estimators=600, reg_lambda=0.1; total time=  38.3s\n",
            "[CV] END learning_rate=0.01, max_depth=6, n_estimators=600, reg_lambda=0.1; total time=  38.2s\n",
            "[CV] END learning_rate=0.01, max_depth=6, n_estimators=600, reg_lambda=0.1; total time=  38.3s\n",
            "[CV] END learning_rate=0.01, max_depth=6, n_estimators=600, reg_lambda=0.1; total time=  40.0s\n",
            "[CV] END learning_rate=0.01, max_depth=6, n_estimators=600, reg_lambda=0.01; total time=  38.3s\n",
            "[CV] END learning_rate=0.01, max_depth=6, n_estimators=600, reg_lambda=0.01; total time=  38.4s\n",
            "[CV] END learning_rate=0.01, max_depth=6, n_estimators=600, reg_lambda=0.01; total time=  38.4s\n",
            "[CV] END learning_rate=0.01, max_depth=6, n_estimators=600, reg_lambda=0.01; total time=  38.5s\n",
            "[CV] END learning_rate=0.01, max_depth=6, n_estimators=600, reg_lambda=0.01; total time=  38.6s\n",
            "[CV] END learning_rate=0.01, max_depth=8, n_estimators=200, reg_lambda=0.1; total time=  20.2s\n",
            "[CV] END learning_rate=0.01, max_depth=8, n_estimators=200, reg_lambda=0.1; total time=  21.4s\n",
            "[CV] END learning_rate=0.01, max_depth=8, n_estimators=200, reg_lambda=0.1; total time=  21.4s\n",
            "[CV] END learning_rate=0.01, max_depth=8, n_estimators=200, reg_lambda=0.1; total time=  19.4s\n",
            "[CV] END learning_rate=0.01, max_depth=8, n_estimators=200, reg_lambda=0.1; total time=  21.5s\n",
            "[CV] END learning_rate=0.01, max_depth=8, n_estimators=200, reg_lambda=0.01; total time=  22.1s\n",
            "[CV] END learning_rate=0.01, max_depth=8, n_estimators=200, reg_lambda=0.01; total time=  22.1s\n",
            "[CV] END learning_rate=0.01, max_depth=8, n_estimators=200, reg_lambda=0.01; total time=  20.2s\n",
            "[CV] END learning_rate=0.01, max_depth=8, n_estimators=200, reg_lambda=0.01; total time=  22.1s\n",
            "[CV] END learning_rate=0.01, max_depth=8, n_estimators=200, reg_lambda=0.01; total time=  22.1s\n",
            "[CV] END learning_rate=0.01, max_depth=8, n_estimators=400, reg_lambda=0.1; total time=  40.2s\n",
            "[CV] END learning_rate=0.01, max_depth=8, n_estimators=400, reg_lambda=0.1; total time=  42.3s\n",
            "[CV] END learning_rate=0.01, max_depth=8, n_estimators=400, reg_lambda=0.1; total time=  40.2s\n",
            "[CV] END learning_rate=0.01, max_depth=8, n_estimators=400, reg_lambda=0.1; total time=  40.2s\n",
            "[CV] END learning_rate=0.01, max_depth=8, n_estimators=400, reg_lambda=0.1; total time=  42.0s\n",
            "[CV] END learning_rate=0.01, max_depth=8, n_estimators=400, reg_lambda=0.01; total time=  41.4s\n",
            "[CV] END learning_rate=0.01, max_depth=8, n_estimators=400, reg_lambda=0.01; total time=  43.3s\n",
            "[CV] END learning_rate=0.01, max_depth=8, n_estimators=400, reg_lambda=0.01; total time=  41.4s\n",
            "[CV] END learning_rate=0.01, max_depth=8, n_estimators=400, reg_lambda=0.01; total time=  43.5s\n",
            "[CV] END learning_rate=0.01, max_depth=8, n_estimators=400, reg_lambda=0.01; total time=  41.4s\n",
            "[CV] END learning_rate=0.01, max_depth=8, n_estimators=600, reg_lambda=0.1; total time=  59.1s\n",
            "[CV] END learning_rate=0.01, max_depth=8, n_estimators=600, reg_lambda=0.1; total time=  58.4s\n",
            "[CV] END learning_rate=0.01, max_depth=8, n_estimators=600, reg_lambda=0.1; total time=  57.7s\n",
            "[CV] END learning_rate=0.01, max_depth=8, n_estimators=600, reg_lambda=0.1; total time=  56.7s\n",
            "[CV] END learning_rate=0.01, max_depth=8, n_estimators=600, reg_lambda=0.1; total time=  58.1s\n",
            "[CV] END learning_rate=0.01, max_depth=8, n_estimators=600, reg_lambda=0.01; total time=  59.1s\n",
            "[CV] END learning_rate=0.01, max_depth=8, n_estimators=600, reg_lambda=0.01; total time=  59.2s\n",
            "[CV] END learning_rate=0.01, max_depth=8, n_estimators=600, reg_lambda=0.01; total time=  57.7s\n",
            "[CV] END learning_rate=0.01, max_depth=8, n_estimators=600, reg_lambda=0.01; total time=  57.8s\n",
            "[CV] END learning_rate=0.01, max_depth=8, n_estimators=600, reg_lambda=0.01; total time=  59.2s\n",
            "[CV] END learning_rate=0.02, max_depth=4, n_estimators=200, reg_lambda=0.1; total time=   8.6s\n",
            "[CV] END learning_rate=0.02, max_depth=4, n_estimators=200, reg_lambda=0.1; total time=   6.8s\n",
            "[CV] END learning_rate=0.02, max_depth=4, n_estimators=200, reg_lambda=0.1; total time=   8.3s\n",
            "[CV] END learning_rate=0.02, max_depth=4, n_estimators=200, reg_lambda=0.1; total time=   8.6s\n",
            "[CV] END learning_rate=0.02, max_depth=4, n_estimators=200, reg_lambda=0.1; total time=   6.7s\n",
            "[CV] END learning_rate=0.02, max_depth=4, n_estimators=200, reg_lambda=0.01; total time=   8.6s\n",
            "[CV] END learning_rate=0.02, max_depth=4, n_estimators=200, reg_lambda=0.01; total time=   8.6s\n",
            "[CV] END learning_rate=0.02, max_depth=4, n_estimators=200, reg_lambda=0.01; total time=   6.7s\n",
            "[CV] END learning_rate=0.02, max_depth=4, n_estimators=200, reg_lambda=0.01; total time=   8.5s\n",
            "[CV] END learning_rate=0.02, max_depth=4, n_estimators=200, reg_lambda=0.01; total time=   8.5s\n",
            "[CV] END learning_rate=0.02, max_depth=4, n_estimators=400, reg_lambda=0.1; total time=  14.9s\n",
            "[CV] END learning_rate=0.02, max_depth=4, n_estimators=400, reg_lambda=0.1; total time=  14.8s\n",
            "[CV] END learning_rate=0.02, max_depth=4, n_estimators=400, reg_lambda=0.1; total time=  14.9s\n",
            "[CV] END learning_rate=0.02, max_depth=4, n_estimators=400, reg_lambda=0.1; total time=  16.7s\n",
            "[CV] END learning_rate=0.02, max_depth=4, n_estimators=400, reg_lambda=0.1; total time=  14.9s\n",
            "[CV] END learning_rate=0.02, max_depth=4, n_estimators=400, reg_lambda=0.01; total time=  14.8s\n",
            "[CV] END learning_rate=0.02, max_depth=4, n_estimators=400, reg_lambda=0.01; total time=  14.9s\n",
            "[CV] END learning_rate=0.02, max_depth=4, n_estimators=400, reg_lambda=0.01; total time=  16.8s\n",
            "[CV] END learning_rate=0.02, max_depth=4, n_estimators=400, reg_lambda=0.01; total time=  14.8s\n",
            "[CV] END learning_rate=0.02, max_depth=4, n_estimators=400, reg_lambda=0.01; total time=  14.9s\n",
            "[CV] END learning_rate=0.02, max_depth=4, n_estimators=600, reg_lambda=0.1; total time=  22.9s\n",
            "[CV] END learning_rate=0.02, max_depth=4, n_estimators=600, reg_lambda=0.1; total time=  22.8s\n",
            "[CV] END learning_rate=0.02, max_depth=4, n_estimators=600, reg_lambda=0.1; total time=  22.9s\n",
            "[CV] END learning_rate=0.02, max_depth=4, n_estimators=600, reg_lambda=0.1; total time=  22.7s\n",
            "[CV] END learning_rate=0.02, max_depth=4, n_estimators=600, reg_lambda=0.1; total time=  21.0s\n",
            "[CV] END learning_rate=0.02, max_depth=4, n_estimators=600, reg_lambda=0.01; total time=  22.9s\n",
            "[CV] END learning_rate=0.02, max_depth=4, n_estimators=600, reg_lambda=0.01; total time=  22.9s\n",
            "[CV] END learning_rate=0.02, max_depth=4, n_estimators=600, reg_lambda=0.01; total time=  22.5s\n",
            "[CV] END learning_rate=0.02, max_depth=4, n_estimators=600, reg_lambda=0.01; total time=  22.5s\n",
            "[CV] END learning_rate=0.02, max_depth=4, n_estimators=600, reg_lambda=0.01; total time=  20.7s\n",
            "[CV] END learning_rate=0.02, max_depth=6, n_estimators=200, reg_lambda=0.1; total time=  14.9s\n",
            "[CV] END learning_rate=0.02, max_depth=6, n_estimators=200, reg_lambda=0.1; total time=  13.2s\n",
            "[CV] END learning_rate=0.02, max_depth=6, n_estimators=200, reg_lambda=0.1; total time=  13.3s\n",
            "[CV] END learning_rate=0.02, max_depth=6, n_estimators=200, reg_lambda=0.1; total time=  13.3s\n",
            "[CV] END learning_rate=0.02, max_depth=6, n_estimators=200, reg_lambda=0.1; total time=  13.2s\n",
            "[CV] END learning_rate=0.02, max_depth=6, n_estimators=200, reg_lambda=0.01; total time=  13.4s\n",
            "[CV] END learning_rate=0.02, max_depth=6, n_estimators=200, reg_lambda=0.01; total time=  13.3s\n",
            "[CV] END learning_rate=0.02, max_depth=6, n_estimators=200, reg_lambda=0.01; total time=  13.3s\n",
            "[CV] END learning_rate=0.02, max_depth=6, n_estimators=200, reg_lambda=0.01; total time=  13.3s\n",
            "[CV] END learning_rate=0.02, max_depth=6, n_estimators=200, reg_lambda=0.01; total time=  14.4s\n",
            "[CV] END learning_rate=0.02, max_depth=6, n_estimators=400, reg_lambda=0.1; total time=  25.4s\n",
            "[CV] END learning_rate=0.02, max_depth=6, n_estimators=400, reg_lambda=0.1; total time=  24.9s\n",
            "[CV] END learning_rate=0.02, max_depth=6, n_estimators=400, reg_lambda=0.1; total time=  24.9s\n",
            "[CV] END learning_rate=0.02, max_depth=6, n_estimators=400, reg_lambda=0.1; total time=  24.8s\n",
            "[CV] END learning_rate=0.02, max_depth=6, n_estimators=400, reg_lambda=0.1; total time=  24.9s\n",
            "[CV] END learning_rate=0.02, max_depth=6, n_estimators=400, reg_lambda=0.01; total time=  25.0s\n",
            "[CV] END learning_rate=0.02, max_depth=6, n_estimators=400, reg_lambda=0.01; total time=  25.0s\n",
            "[CV] END learning_rate=0.02, max_depth=6, n_estimators=400, reg_lambda=0.01; total time=  24.9s\n",
            "[CV] END learning_rate=0.02, max_depth=6, n_estimators=400, reg_lambda=0.01; total time=  24.9s\n",
            "[CV] END learning_rate=0.02, max_depth=6, n_estimators=400, reg_lambda=0.01; total time=  24.9s\n",
            "[CV] END learning_rate=0.02, max_depth=6, n_estimators=600, reg_lambda=0.1; total time=  36.1s\n",
            "[CV] END learning_rate=0.02, max_depth=6, n_estimators=600, reg_lambda=0.1; total time=  36.1s\n",
            "[CV] END learning_rate=0.02, max_depth=6, n_estimators=600, reg_lambda=0.1; total time=  35.9s\n",
            "[CV] END learning_rate=0.02, max_depth=6, n_estimators=600, reg_lambda=0.1; total time=  36.0s\n",
            "[CV] END learning_rate=0.02, max_depth=6, n_estimators=600, reg_lambda=0.1; total time=  35.9s\n",
            "[CV] END learning_rate=0.02, max_depth=6, n_estimators=600, reg_lambda=0.01; total time=  35.9s\n",
            "[CV] END learning_rate=0.02, max_depth=6, n_estimators=600, reg_lambda=0.01; total time=  35.9s\n",
            "[CV] END learning_rate=0.02, max_depth=6, n_estimators=600, reg_lambda=0.01; total time=  36.0s\n",
            "[CV] END learning_rate=0.02, max_depth=6, n_estimators=600, reg_lambda=0.01; total time=  36.3s\n",
            "[CV] END learning_rate=0.02, max_depth=6, n_estimators=600, reg_lambda=0.01; total time=  36.2s\n",
            "[CV] END learning_rate=0.02, max_depth=8, n_estimators=200, reg_lambda=0.1; total time=  19.4s\n",
            "[CV] END learning_rate=0.02, max_depth=8, n_estimators=200, reg_lambda=0.1; total time=  20.9s\n",
            "[CV] END learning_rate=0.02, max_depth=8, n_estimators=200, reg_lambda=0.1; total time=  20.9s\n",
            "[CV] END learning_rate=0.02, max_depth=8, n_estimators=200, reg_lambda=0.1; total time=  19.1s\n",
            "[CV] END learning_rate=0.02, max_depth=8, n_estimators=200, reg_lambda=0.1; total time=  20.9s\n",
            "[CV] END learning_rate=0.02, max_depth=8, n_estimators=200, reg_lambda=0.01; total time=  21.4s\n",
            "[CV] END learning_rate=0.02, max_depth=8, n_estimators=200, reg_lambda=0.01; total time=  19.5s\n",
            "[CV] END learning_rate=0.02, max_depth=8, n_estimators=200, reg_lambda=0.01; total time=  21.4s\n",
            "[CV] END learning_rate=0.02, max_depth=8, n_estimators=200, reg_lambda=0.01; total time=  21.4s\n",
            "[CV] END learning_rate=0.02, max_depth=8, n_estimators=200, reg_lambda=0.01; total time=  21.3s\n",
            "[CV] END learning_rate=0.02, max_depth=8, n_estimators=400, reg_lambda=0.1; total time=  36.7s\n",
            "[CV] END learning_rate=0.02, max_depth=8, n_estimators=400, reg_lambda=0.1; total time=  37.0s\n",
            "[CV] END learning_rate=0.02, max_depth=8, n_estimators=400, reg_lambda=0.1; total time=  36.7s\n",
            "[CV] END learning_rate=0.02, max_depth=8, n_estimators=400, reg_lambda=0.1; total time=  36.8s\n",
            "[CV] END learning_rate=0.02, max_depth=8, n_estimators=400, reg_lambda=0.1; total time=  36.5s\n",
            "[CV] END learning_rate=0.02, max_depth=8, n_estimators=400, reg_lambda=0.01; total time=  37.2s\n",
            "[CV] END learning_rate=0.02, max_depth=8, n_estimators=400, reg_lambda=0.01; total time=  37.0s\n",
            "[CV] END learning_rate=0.02, max_depth=8, n_estimators=400, reg_lambda=0.01; total time=  37.0s\n",
            "[CV] END learning_rate=0.02, max_depth=8, n_estimators=400, reg_lambda=0.01; total time=  37.2s\n",
            "[CV] END learning_rate=0.02, max_depth=8, n_estimators=400, reg_lambda=0.01; total time=  36.9s\n",
            "[CV] END learning_rate=0.02, max_depth=8, n_estimators=600, reg_lambda=0.1; total time=  51.1s\n",
            "[CV] END learning_rate=0.02, max_depth=8, n_estimators=600, reg_lambda=0.1; total time=  51.1s\n",
            "[CV] END learning_rate=0.02, max_depth=8, n_estimators=600, reg_lambda=0.1; total time=  52.8s\n",
            "[CV] END learning_rate=0.02, max_depth=8, n_estimators=600, reg_lambda=0.1; total time=  51.1s\n",
            "[CV] END learning_rate=0.02, max_depth=8, n_estimators=600, reg_lambda=0.1; total time=  51.0s\n",
            "[CV] END learning_rate=0.02, max_depth=8, n_estimators=600, reg_lambda=0.01; total time=  51.4s\n",
            "[CV] END learning_rate=0.02, max_depth=8, n_estimators=600, reg_lambda=0.01; total time=  53.4s\n",
            "[CV] END learning_rate=0.02, max_depth=8, n_estimators=600, reg_lambda=0.01; total time=  51.4s\n",
            "[CV] END learning_rate=0.02, max_depth=8, n_estimators=600, reg_lambda=0.01; total time=  51.8s\n",
            "[CV] END learning_rate=0.02, max_depth=8, n_estimators=600, reg_lambda=0.01; total time=  53.5s\n"
          ]
        }
      ]
    },
    {
      "cell_type": "code",
      "source": [
        "print(\"The best hyperparameters are \",search.best_params_)"
      ],
      "metadata": {
        "colab": {
          "base_uri": "https://localhost:8080/"
        },
        "id": "kYDp4AnrxaYr",
        "outputId": "2b5baf3d-6ef8-47fe-9b38-33593f91826b"
      },
      "execution_count": null,
      "outputs": [
        {
          "output_type": "stream",
          "name": "stdout",
          "text": [
            "The best hyperparameters are  {'gpu_id': 0, 'learning_rate': 0.02, 'max_depth': 8, 'n_estimators': 600, 'reg_lambda': 0.1, 'tree_method': 'gpu_hist'}\n"
          ]
        }
      ]
    },
    {
      "cell_type": "code",
      "source": [
        "import xgboost"
      ],
      "metadata": {
        "id": "JrE1WBpq7JAM"
      },
      "execution_count": null,
      "outputs": []
    },
    {
      "cell_type": "code",
      "source": [
        "# regressor=xgboost.XGBRegressor(learning_rate = search.best_params_[\"learning_rate\"],\n",
        "#                            n_estimators  = search.best_params_[\"n_estimators\"],\n",
        "#                            max_depth     = search.best_params_[\"max_depth\"],\n",
        "#                            gpu_id     = search.best_params_[\"gpu_id\"],\n",
        "#                           tree_method     = search.best_params_[\"tree_method\"],\n",
        "#                           reg_lambda     = search.best_params_[\"reg_lambda\"])\n",
        "\n",
        "regressor=xgboost.XGBRegressor(learning_rate = .01,\n",
        "                           n_estimators  = 600,\n",
        "                           max_depth     = 7,\n",
        "                           reg_lambda =0.3,tree_method= \"gpu_hist\" , gpu_id = 0)\n",
        "\n",
        "\n",
        "regressor.fit(X_train, y_train)"
      ],
      "metadata": {
        "colab": {
          "base_uri": "https://localhost:8080/",
          "height": 248
        },
        "id": "3ecuBsFzxe-9",
        "outputId": "5f8f6fe4-b0d7-4fb3-ba25-1ed488e754b2"
      },
      "execution_count": null,
      "outputs": [
        {
          "output_type": "execute_result",
          "data": {
            "text/plain": [
              "XGBRegressor(base_score=None, booster=None, callbacks=None,\n",
              "             colsample_bylevel=None, colsample_bynode=None,\n",
              "             colsample_bytree=None, early_stopping_rounds=None,\n",
              "             enable_categorical=False, eval_metric=None, feature_types=None,\n",
              "             gamma=None, gpu_id=0, grow_policy=None, importance_type=None,\n",
              "             interaction_constraints=None, learning_rate=0.01, max_bin=None,\n",
              "             max_cat_threshold=None, max_cat_to_onehot=None,\n",
              "             max_delta_step=None, max_depth=7, max_leaves=None,\n",
              "             min_child_weight=None, missing=nan, monotone_constraints=None,\n",
              "             n_estimators=600, n_jobs=None, num_parallel_tree=None,\n",
              "             predictor=None, random_state=None, ...)"
            ],
            "text/html": [
              "<style>#sk-container-id-1 {color: black;background-color: white;}#sk-container-id-1 pre{padding: 0;}#sk-container-id-1 div.sk-toggleable {background-color: white;}#sk-container-id-1 label.sk-toggleable__label {cursor: pointer;display: block;width: 100%;margin-bottom: 0;padding: 0.3em;box-sizing: border-box;text-align: center;}#sk-container-id-1 label.sk-toggleable__label-arrow:before {content: \"▸\";float: left;margin-right: 0.25em;color: #696969;}#sk-container-id-1 label.sk-toggleable__label-arrow:hover:before {color: black;}#sk-container-id-1 div.sk-estimator:hover label.sk-toggleable__label-arrow:before {color: black;}#sk-container-id-1 div.sk-toggleable__content {max-height: 0;max-width: 0;overflow: hidden;text-align: left;background-color: #f0f8ff;}#sk-container-id-1 div.sk-toggleable__content pre {margin: 0.2em;color: black;border-radius: 0.25em;background-color: #f0f8ff;}#sk-container-id-1 input.sk-toggleable__control:checked~div.sk-toggleable__content {max-height: 200px;max-width: 100%;overflow: auto;}#sk-container-id-1 input.sk-toggleable__control:checked~label.sk-toggleable__label-arrow:before {content: \"▾\";}#sk-container-id-1 div.sk-estimator input.sk-toggleable__control:checked~label.sk-toggleable__label {background-color: #d4ebff;}#sk-container-id-1 div.sk-label input.sk-toggleable__control:checked~label.sk-toggleable__label {background-color: #d4ebff;}#sk-container-id-1 input.sk-hidden--visually {border: 0;clip: rect(1px 1px 1px 1px);clip: rect(1px, 1px, 1px, 1px);height: 1px;margin: -1px;overflow: hidden;padding: 0;position: absolute;width: 1px;}#sk-container-id-1 div.sk-estimator {font-family: monospace;background-color: #f0f8ff;border: 1px dotted black;border-radius: 0.25em;box-sizing: border-box;margin-bottom: 0.5em;}#sk-container-id-1 div.sk-estimator:hover {background-color: #d4ebff;}#sk-container-id-1 div.sk-parallel-item::after {content: \"\";width: 100%;border-bottom: 1px solid gray;flex-grow: 1;}#sk-container-id-1 div.sk-label:hover label.sk-toggleable__label {background-color: #d4ebff;}#sk-container-id-1 div.sk-serial::before {content: \"\";position: absolute;border-left: 1px solid gray;box-sizing: border-box;top: 0;bottom: 0;left: 50%;z-index: 0;}#sk-container-id-1 div.sk-serial {display: flex;flex-direction: column;align-items: center;background-color: white;padding-right: 0.2em;padding-left: 0.2em;position: relative;}#sk-container-id-1 div.sk-item {position: relative;z-index: 1;}#sk-container-id-1 div.sk-parallel {display: flex;align-items: stretch;justify-content: center;background-color: white;position: relative;}#sk-container-id-1 div.sk-item::before, #sk-container-id-1 div.sk-parallel-item::before {content: \"\";position: absolute;border-left: 1px solid gray;box-sizing: border-box;top: 0;bottom: 0;left: 50%;z-index: -1;}#sk-container-id-1 div.sk-parallel-item {display: flex;flex-direction: column;z-index: 1;position: relative;background-color: white;}#sk-container-id-1 div.sk-parallel-item:first-child::after {align-self: flex-end;width: 50%;}#sk-container-id-1 div.sk-parallel-item:last-child::after {align-self: flex-start;width: 50%;}#sk-container-id-1 div.sk-parallel-item:only-child::after {width: 0;}#sk-container-id-1 div.sk-dashed-wrapped {border: 1px dashed gray;margin: 0 0.4em 0.5em 0.4em;box-sizing: border-box;padding-bottom: 0.4em;background-color: white;}#sk-container-id-1 div.sk-label label {font-family: monospace;font-weight: bold;display: inline-block;line-height: 1.2em;}#sk-container-id-1 div.sk-label-container {text-align: center;}#sk-container-id-1 div.sk-container {/* jupyter's `normalize.less` sets `[hidden] { display: none; }` but bootstrap.min.css set `[hidden] { display: none !important; }` so we also need the `!important` here to be able to override the default hidden behavior on the sphinx rendered scikit-learn.org. See: https://github.com/scikit-learn/scikit-learn/issues/21755 */display: inline-block !important;position: relative;}#sk-container-id-1 div.sk-text-repr-fallback {display: none;}</style><div id=\"sk-container-id-1\" class=\"sk-top-container\"><div class=\"sk-text-repr-fallback\"><pre>XGBRegressor(base_score=None, booster=None, callbacks=None,\n",
              "             colsample_bylevel=None, colsample_bynode=None,\n",
              "             colsample_bytree=None, early_stopping_rounds=None,\n",
              "             enable_categorical=False, eval_metric=None, feature_types=None,\n",
              "             gamma=None, gpu_id=0, grow_policy=None, importance_type=None,\n",
              "             interaction_constraints=None, learning_rate=0.01, max_bin=None,\n",
              "             max_cat_threshold=None, max_cat_to_onehot=None,\n",
              "             max_delta_step=None, max_depth=7, max_leaves=None,\n",
              "             min_child_weight=None, missing=nan, monotone_constraints=None,\n",
              "             n_estimators=600, n_jobs=None, num_parallel_tree=None,\n",
              "             predictor=None, random_state=None, ...)</pre><b>In a Jupyter environment, please rerun this cell to show the HTML representation or trust the notebook. <br />On GitHub, the HTML representation is unable to render, please try loading this page with nbviewer.org.</b></div><div class=\"sk-container\" hidden><div class=\"sk-item\"><div class=\"sk-estimator sk-toggleable\"><input class=\"sk-toggleable__control sk-hidden--visually\" id=\"sk-estimator-id-1\" type=\"checkbox\" checked><label for=\"sk-estimator-id-1\" class=\"sk-toggleable__label sk-toggleable__label-arrow\">XGBRegressor</label><div class=\"sk-toggleable__content\"><pre>XGBRegressor(base_score=None, booster=None, callbacks=None,\n",
              "             colsample_bylevel=None, colsample_bynode=None,\n",
              "             colsample_bytree=None, early_stopping_rounds=None,\n",
              "             enable_categorical=False, eval_metric=None, feature_types=None,\n",
              "             gamma=None, gpu_id=0, grow_policy=None, importance_type=None,\n",
              "             interaction_constraints=None, learning_rate=0.01, max_bin=None,\n",
              "             max_cat_threshold=None, max_cat_to_onehot=None,\n",
              "             max_delta_step=None, max_depth=7, max_leaves=None,\n",
              "             min_child_weight=None, missing=nan, monotone_constraints=None,\n",
              "             n_estimators=600, n_jobs=None, num_parallel_tree=None,\n",
              "             predictor=None, random_state=None, ...)</pre></div></div></div></div></div>"
            ]
          },
          "metadata": {},
          "execution_count": 48
        }
      ]
    },
    {
      "cell_type": "code",
      "source": [
        "from xgboost import plot_importance\n",
        "plot_importance(regressor)"
      ],
      "metadata": {
        "colab": {
          "base_uri": "https://localhost:8080/",
          "height": 489
        },
        "id": "nEodCd04TJhy",
        "outputId": "adeb1448-1b88-474b-ccd2-97ba6e2fec90"
      },
      "execution_count": null,
      "outputs": [
        {
          "output_type": "execute_result",
          "data": {
            "text/plain": [
              "<Axes: title={'center': 'Feature importance'}, xlabel='F score', ylabel='Features'>"
            ]
          },
          "metadata": {},
          "execution_count": 49
        },
        {
          "output_type": "display_data",
          "data": {
            "text/plain": [
              "<Figure size 640x480 with 1 Axes>"
            ],
            "image/png": "[encoded data removed]"
          },
          "metadata": {}
        }
      ]
    },
    {
      "cell_type": "code",
      "source": [
        "prediction=regressor.predict(X_test)"
      ],
      "metadata": {
        "id": "BD41J5pcwCv9"
      },
      "execution_count": null,
      "outputs": []
    },
    {
      "cell_type": "code",
      "source": [
        "### evaluating on log\n",
        "print(\"test MSE {} \".format(mean_squared_error(y_test,prediction)))\n",
        "print(\"test RMSE {} \".format(math.sqrt(mean_squared_error(y_test,prediction))))\n",
        "\n",
        "print(\"test MAE {} \".format((mean_absolute_error(y_test,prediction))))"
      ],
      "metadata": {
        "id": "hi0PYOIyNAKV",
        "colab": {
          "base_uri": "https://localhost:8080/"
        },
        "outputId": "c297ad59-a72b-4845-8476-c43274d4d01c"
      },
      "execution_count": null,
      "outputs": [
        {
          "output_type": "stream",
          "name": "stdout",
          "text": [
            "test MSE 0.3337576366279019 \n",
            "test RMSE 0.5777176097609471 \n",
            "test MAE 0.4216910848676702 \n"
          ]
        }
      ]
    },
    {
      "cell_type": "code",
      "source": [
        "prediction_train=regressor.predict(X_train)"
      ],
      "metadata": {
        "id": "1h3bs4SXob4A"
      },
      "execution_count": null,
      "outputs": []
    },
    {
      "cell_type": "code",
      "source": [
        "### evaluating on log\n",
        "print(\"train MSE {} \".format(mean_squared_error(y_train,prediction_train)))\n",
        "print(\"train RMSE {} \".format(math.sqrt(mean_squared_error(y_train,prediction_train))))\n",
        "\n",
        "print(\"train MAE {} \".format((mean_absolute_error(y_train,prediction_train))))"
      ],
      "metadata": {
        "id": "sL_veiOlNO43",
        "colab": {
          "base_uri": "https://localhost:8080/"
        },
        "outputId": "ae5676c3-6206-43ba-acea-21a7ad3f151f"
      },
      "execution_count": null,
      "outputs": [
        {
          "output_type": "stream",
          "name": "stdout",
          "text": [
            "train MSE 0.2853413234188909 \n",
            "train RMSE 0.5341734956162566 \n",
            "train MAE 0.39784164253257887 \n"
          ]
        }
      ]
    },
    {
      "cell_type": "code",
      "source": [
        "###AIC\n",
        "k = len(regressor.get_booster().get_fscore())\n",
        "L = np.sum((y_train - prediction_train)**2)\n",
        "AIC = 2*k - 2*np.log(L)"
      ],
      "metadata": {
        "id": "MRLcEh3t8Hz_"
      },
      "execution_count": null,
      "outputs": []
    },
    {
      "cell_type": "code",
      "source": [
        "AIC"
      ],
      "metadata": {
        "id": "rF-8SArwKdxG",
        "colab": {
          "base_uri": "https://localhost:8080/"
        },
        "outputId": "de730671-f706-4e73-b7c5-ad1f62f7e6fb"
      },
      "execution_count": null,
      "outputs": [
        {
          "output_type": "execute_result",
          "data": {
            "text/plain": [
              "20.86538436698058"
            ]
          },
          "metadata": {},
          "execution_count": 124
        }
      ]
    },
    {
      "cell_type": "code",
      "source": [
        "## checking distribution of errors\n",
        "import matplotlib.pyplot as plt\n",
        "diff = y_test - prediction\n",
        "diff.hist(bins = 50)\n",
        "plt.title('Histogram of prediction errors')\n",
        "plt.grid(False)\n",
        "plt.xlabel('views error')\n",
        "plt.ylabel('Frequency')"
      ],
      "metadata": {
        "colab": {
          "base_uri": "https://localhost:8080/",
          "height": 489
        },
        "id": "abLatFM54FTI",
        "outputId": "e1af38d4-3123-45e5-d407-20b55c3e6562"
      },
      "execution_count": null,
      "outputs": [
        {
          "output_type": "execute_result",
          "data": {
            "text/plain": [
              "Text(0, 0.5, 'Frequency')"
            ]
          },
          "metadata": {},
          "execution_count": 51
        },
        {
          "output_type": "display_data",
          "data": {
            "text/plain": [
              "<Figure size 640x480 with 1 Axes>"
            ],
            "image/png": "[encoded data removed]"
          },
          "metadata": {}
        }
      ]
    },
    {
      "cell_type": "code",
      "source": [
        "import statsmodels.api as sm\n",
        "import pylab as py\n",
        "sm.qqplot(diff, line ='45')\n",
        "py.show()"
      ],
      "metadata": {
        "colab": {
          "base_uri": "https://localhost:8080/",
          "height": 449
        },
        "id": "AV7VvRX9bXEV",
        "outputId": "86136ad8-32d1-4d08-81f3-6bde2b8c3ad3"
      },
      "execution_count": null,
      "outputs": [
        {
          "output_type": "display_data",
          "data": {
            "text/plain": [
              "<Figure size 640x480 with 1 Axes>"
            ],
            "image/png": "[encoded data removed]"
          },
          "metadata": {}
        }
      ]
    },
    {
      "cell_type": "code",
      "source": [
        "# ### Reversing the log operation\n",
        "# y_test_real=np.exp(y_test)\n",
        "# y_train_real= np.exp(y_train)\n",
        "# prediction_real=np.exp(prediction)\n",
        "# print(\"test MSE {} \".format(mean_squared_error(y_test_real,prediction_real)))\n",
        "# print(\"test RMSE {} \".format(math.sqrt(mean_squared_error(y_test_real,prediction_real))))\n",
        "# #Adj_r2 = 1 - (1-r2_score(y_test,prediction)) * (len(y_test)-1)/(len(y_test)-X_test.shape[1]-1)\n",
        "# #print(\"test Adjusted R squared {} \".format(Adj_r2))\n",
        "\n",
        "# print(\"test MAE {} \".format((mean_absolute_error(y_test_real,prediction_real))))\n",
        "\n",
        "# print(\"train MSE {} \".format(mean_squared_error(y_train_real,prediction_train_real)))\n",
        "# print(\"train RMSE {} \".format(math.sqrt(mean_squared_error(y_train_real,prediction_train_real))))\n",
        "# #Adj_r2_train = 1 - (1-r2_score(y_train, prediction_train)) * (len(y_train)-1)/(len(y_train)-X_train.shape[1]-1)\n",
        "# #print(\"train Adjusted R squared {} \".format(Adj_r2_train))\n",
        "# print(\"train MAE {} \".format((mean_absolute_error(y_train_real,prediction_train_real))))"
      ],
      "metadata": {
        "id": "QJSlka4NwCv9"
      },
      "execution_count": null,
      "outputs": []
    }
  ]
}